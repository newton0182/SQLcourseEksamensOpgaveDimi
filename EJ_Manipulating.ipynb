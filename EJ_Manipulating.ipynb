{
    "metadata": {
        "kernelspec": {
            "name": "SQL",
            "display_name": "SQL",
            "language": "sql"
        },
        "language_info": {
            "name": "sql",
            "version": ""
        }
    },
    "nbformat_minor": 2,
    "nbformat": 4,
    "cells": [
        {
            "cell_type": "markdown",
            "source": [
                "# 1\\. Ny Database"
            ],
            "metadata": {
                "azdata_cell_guid": "b35c9b09-3fe9-48eb-9113-dd4bbf546893"
            }
        },
        {
            "cell_type": "markdown",
            "source": [
                "## 1.1 Slet Databasen (hvis det ønskes)"
            ],
            "metadata": {
                "azdata_cell_guid": "df04c118-437d-41eb-ac4a-b5e37c3a0393"
            }
        },
        {
            "cell_type": "code",
            "source": [
                "-- Connect to the 'master' database to run this snippet\r\n",
                "USE master\r\n",
                "GO\r\n",
                "\r\n",
                "IF EXISTS (\r\n",
                "    SELECT [name]\r\n",
                "        FROM sys.databases\r\n",
                "        WHERE [name] = N'Eksamensopgave_jernbaneforvalter'\r\n",
                ")\r\n",
                "DROP DATABASE Eksamensopgave_jernbaneforvalter\r\n",
                "GO\r\n",
                ""
            ],
            "metadata": {
                "azdata_cell_guid": "457a7486-8867-4670-9691-853a74198a86"
            },
            "outputs": [
                {
                    "output_type": "display_data",
                    "data": {
                        "text/html": "Commands completed successfully."
                    },
                    "metadata": {}
                },
                {
                    "output_type": "display_data",
                    "data": {
                        "text/html": "Commands completed successfully."
                    },
                    "metadata": {}
                },
                {
                    "output_type": "display_data",
                    "data": {
                        "text/html": "Total execution time: 00:00:00.051"
                    },
                    "metadata": {}
                }
            ],
            "execution_count": 24
        },
        {
            "cell_type": "markdown",
            "source": [
                "## 1.2 Lav en ny Database"
            ],
            "metadata": {
                "azdata_cell_guid": "80766d71-04cb-4ad3-9a4a-70543105e216"
            }
        },
        {
            "cell_type": "code",
            "source": [
                "-- Connect to the 'master' database to run this snippet\r\n",
                "USE master\r\n",
                "GO\r\n",
                "-- Create the new database if it does not exist already\r\n",
                "IF NOT EXISTS (\r\n",
                "    SELECT [name]\r\n",
                "        FROM sys.databases\r\n",
                "        WHERE [name] = N'Eksamensopgave_jernbaneforvalter'\r\n",
                ")\r\n",
                "CREATE DATABASE Eksamensopgave_jernbaneforvalter\r\n",
                "GO"
            ],
            "metadata": {
                "azdata_cell_guid": "80110430-8955-45df-973c-d45d04699f58"
            },
            "outputs": [
                {
                    "output_type": "display_data",
                    "data": {
                        "text/html": "Commands completed successfully."
                    },
                    "metadata": {}
                },
                {
                    "output_type": "display_data",
                    "data": {
                        "text/html": "Commands completed successfully."
                    },
                    "metadata": {}
                },
                {
                    "output_type": "display_data",
                    "data": {
                        "text/html": "Total execution time: 00:00:00"
                    },
                    "metadata": {}
                }
            ],
            "execution_count": 26
        },
        {
            "cell_type": "markdown",
            "source": [
                "# 2\\. Tabeller i Databasen"
            ],
            "metadata": {
                "azdata_cell_guid": "1ec99a45-f1ae-4a89-9db5-acea1bcf04b4"
            }
        },
        {
            "cell_type": "markdown",
            "source": [
                "## 2.1 Banenumre"
            ],
            "metadata": {
                "azdata_cell_guid": "edcd0f63-b9e9-40c5-91a5-fbd657971e76"
            }
        },
        {
            "cell_type": "markdown",
            "source": [
                "### 2.1.1 Tabel med idikation om det er Fjern eller S-Bane"
            ],
            "metadata": {
                "azdata_cell_guid": "159efb9d-f2d2-44ec-96d5-0dccce6b14e2"
            }
        },
        {
            "cell_type": "code",
            "source": [
                "-- Fjern eller S-Bane tabel '[fjernellersbanetabel]'\r\n",
                "\r\n",
                "USE [Eksamensopgave_jernbaneforvalter]\r\n",
                "\r\n",
                "-- Drop the table if it already exists\r\n",
                "IF OBJECT_ID('[dbo].[fjernellersbanetabel]', 'U') IS NOT NULL\r\n",
                "DROP TABLE [dbo].[fjernellersbanetabel]\r\n",
                "GO\r\n",
                "\r\n",
                "CREATE TABLE [dbo].[fjernellersbanetabel]\r\n",
                "(\r\n",
                "    [FjernellersbaneID] INT NOT NULL PRIMARY KEY, \r\n",
                "    [Fjernellersbane] VARCHAR(10) UNIQUE NOT NULL\r\n",
                ");\r\n",
                "GO\r\n",
                "\r\n",
                "-- Insert rows into table\r\n",
                "INSERT INTO [dbo].[fjernellersbanetabel]\r\n",
                "(\r\n",
                " [FjernellersbaneID], [Fjernellersbane]\r\n",
                ")\r\n",
                "VALUES\r\n",
                "(1, 'FJERN'),\r\n",
                "(2, 'SBANE')\r\n",
                "\r\n",
                "-- View a sample from the table\r\n",
                "SELECT TOP(10) [FjernellersbaneID], [Fjernellersbane]\r\n",
                "FROM [dbo].[fjernellersbanetabel]\r\n",
                "ORDER BY FjernellersbaneID"
            ],
            "metadata": {
                "azdata_cell_guid": "76ee5fc3-6171-4621-befa-5d9b0e11129f"
            },
            "outputs": [
                {
                    "output_type": "display_data",
                    "data": {
                        "text/html": "Commands completed successfully."
                    },
                    "metadata": {}
                },
                {
                    "output_type": "display_data",
                    "data": {
                        "text/html": "Commands completed successfully."
                    },
                    "metadata": {}
                },
                {
                    "output_type": "display_data",
                    "data": {
                        "text/html": "(2 rows affected)"
                    },
                    "metadata": {}
                },
                {
                    "output_type": "display_data",
                    "data": {
                        "text/html": "(2 rows affected)"
                    },
                    "metadata": {}
                },
                {
                    "output_type": "display_data",
                    "data": {
                        "text/html": "Total execution time: 00:00:00.004"
                    },
                    "metadata": {}
                },
                {
                    "output_type": "execute_result",
                    "execution_count": 27,
                    "data": {
                        "application/vnd.dataresource+json": {
                            "schema": {
                                "fields": [
                                    {
                                        "name": "FjernellersbaneID"
                                    },
                                    {
                                        "name": "Fjernellersbane"
                                    }
                                ]
                            },
                            "data": [
                                {
                                    "0": "1",
                                    "1": "FJERN"
                                },
                                {
                                    "0": "2",
                                    "1": "SBANE"
                                }
                            ]
                        },
                        "text/html": "<table><tr><th>FjernellersbaneID</th><th>Fjernellersbane</th></tr><tr><td>1</td><td>FJERN</td></tr><tr><td>2</td><td>SBANE</td></tr></table>"
                    },
                    "metadata": {}
                }
            ],
            "execution_count": 27
        },
        {
            "cell_type": "markdown",
            "source": [
                "### 2.1.2 Tabel med indikation om det er en statslig eller privat bane"
            ],
            "metadata": {
                "azdata_cell_guid": "5fb3b3d7-8cc3-46dc-a984-9758a88ea9d2"
            }
        },
        {
            "cell_type": "code",
            "source": [
                "-- Statslig eller privat bane '[statsligellerprivattabel]'\r\n",
                "\r\n",
                "USE [Eksamensopgave_jernbaneforvalter]\r\n",
                "\r\n",
                "-- Drop the table if it already exists\r\n",
                "IF OBJECT_ID('[dbo].[statsligellerprivattabel]', 'U') IS NOT NULL\r\n",
                "DROP TABLE [dbo].[statsligellerprivattabel]\r\n",
                "GO\r\n",
                "\r\n",
                "CREATE TABLE [dbo].[statsligellerprivattabel]\r\n",
                "(\r\n",
                "    [StatsligellerprivatID] INT NOT NULL PRIMARY KEY, \r\n",
                "    [Statsligellerprivat] VARCHAR(10) UNIQUE NOT NULL\r\n",
                ");\r\n",
                "GO\r\n",
                "\r\n",
                "-- Insert rows into table\r\n",
                "INSERT INTO [dbo].[statsligellerprivattabel]\r\n",
                "(\r\n",
                " [StatsligellerprivatID], [Statsligellerprivat]\r\n",
                ")\r\n",
                "VALUES\r\n",
                "(1, 'STATSLIG'),\r\n",
                "(2, 'PRIVAT')\r\n",
                "\r\n",
                "-- View a sample from the table\r\n",
                "SELECT TOP(10) [StatsligellerprivatID], [Statsligellerprivat]\r\n",
                "FROM [dbo].[statsligellerprivattabel]\r\n",
                "ORDER BY StatsligellerprivatID"
            ],
            "metadata": {
                "azdata_cell_guid": "00a055cb-5da6-4c7c-b3cf-abbb3cb1eb78"
            },
            "outputs": [
                {
                    "output_type": "display_data",
                    "data": {
                        "text/html": "Commands completed successfully."
                    },
                    "metadata": {}
                },
                {
                    "output_type": "display_data",
                    "data": {
                        "text/html": "Commands completed successfully."
                    },
                    "metadata": {}
                },
                {
                    "output_type": "display_data",
                    "data": {
                        "text/html": "(2 rows affected)"
                    },
                    "metadata": {}
                },
                {
                    "output_type": "display_data",
                    "data": {
                        "text/html": "(2 rows affected)"
                    },
                    "metadata": {}
                },
                {
                    "output_type": "display_data",
                    "data": {
                        "text/html": "Total execution time: 00:00:00.007"
                    },
                    "metadata": {}
                },
                {
                    "output_type": "execute_result",
                    "execution_count": 28,
                    "data": {
                        "application/vnd.dataresource+json": {
                            "schema": {
                                "fields": [
                                    {
                                        "name": "StatsligellerprivatID"
                                    },
                                    {
                                        "name": "Statsligellerprivat"
                                    }
                                ]
                            },
                            "data": [
                                {
                                    "0": "1",
                                    "1": "STATSLIG"
                                },
                                {
                                    "0": "2",
                                    "1": "PRIVAT"
                                }
                            ]
                        },
                        "text/html": "<table><tr><th>StatsligellerprivatID</th><th>Statsligellerprivat</th></tr><tr><td>1</td><td>STATSLIG</td></tr><tr><td>2</td><td>PRIVAT</td></tr></table>"
                    },
                    "metadata": {}
                }
            ],
            "execution_count": 28
        },
        {
            "cell_type": "markdown",
            "source": [
                "### 2.1.3 Tabel med placeringer i Danmark"
            ],
            "metadata": {
                "azdata_cell_guid": "ad94771d-af4e-4b7e-a993-6b27d150b57e"
            }
        },
        {
            "cell_type": "code",
            "source": [
                "-- Placering i Danmark '[placeringdanmarktabel]'\r\n",
                "\r\n",
                "USE [Eksamensopgave_jernbaneforvalter]\r\n",
                "\r\n",
                "-- Drop the table if it already exists\r\n",
                "IF OBJECT_ID('[dbo].[placeringdanmarktabel]', 'U') IS NOT NULL\r\n",
                "DROP TABLE [dbo].[placeringdanmarktabel]\r\n",
                "GO\r\n",
                "\r\n",
                "CREATE TABLE [dbo].[placeringdanmarktabel]\r\n",
                "(\r\n",
                "    [PlaceringID] INT NOT NULL PRIMARY KEY, \r\n",
                "    [Placering] NVARCHAR(50) UNIQUE NOT NULL\r\n",
                ");\r\n",
                "GO\r\n",
                "\r\n",
                "-- Insert rows into table\r\n",
                "INSERT INTO [dbo].[placeringdanmarktabel]\r\n",
                "(\r\n",
                " [PlaceringID], [Placering]\r\n",
                ")\r\n",
                "VALUES\r\n",
                "(1, N'Hovedstadsområdet'),\r\n",
                "(2, N'København'),\r\n",
                "(3, N'Nordsjælland'),\r\n",
                "(4, N'Sydsjælland'),\r\n",
                "(5, N'Midtsjælland'),\r\n",
                "(6, N'Vestsjælland'),\r\n",
                "(7, N'Storbælt'),\r\n",
                "(8, N'Femern'),\r\n",
                "(9, N'Midtfyn'),\r\n",
                "(10, N'Sydfyn'),\r\n",
                "(11, N'Sydjylland'),\r\n",
                "(12, N'Midtvestjylland'),\r\n",
                "(13, N'Midtøstjylland'),\r\n",
                "(14, N'Nordjylland')\r\n",
                "\r\n",
                "\r\n",
                "-- View a sample from the table\r\n",
                "SELECT TOP(10) [PlaceringID], [Placering]\r\n",
                "FROM [dbo].[placeringdanmarktabel]\r\n",
                "ORDER BY PlaceringID"
            ],
            "metadata": {
                "azdata_cell_guid": "f367ca00-e00e-4c46-8f59-b0c50d6b5666"
            },
            "outputs": [
                {
                    "output_type": "display_data",
                    "data": {
                        "text/html": "Commands completed successfully."
                    },
                    "metadata": {}
                },
                {
                    "output_type": "display_data",
                    "data": {
                        "text/html": "Commands completed successfully."
                    },
                    "metadata": {}
                },
                {
                    "output_type": "display_data",
                    "data": {
                        "text/html": "(14 rows affected)"
                    },
                    "metadata": {}
                },
                {
                    "output_type": "display_data",
                    "data": {
                        "text/html": "(10 rows affected)"
                    },
                    "metadata": {}
                },
                {
                    "output_type": "display_data",
                    "data": {
                        "text/html": "Total execution time: 00:00:00.003"
                    },
                    "metadata": {}
                },
                {
                    "output_type": "execute_result",
                    "execution_count": 29,
                    "data": {
                        "application/vnd.dataresource+json": {
                            "schema": {
                                "fields": [
                                    {
                                        "name": "PlaceringID"
                                    },
                                    {
                                        "name": "Placering"
                                    }
                                ]
                            },
                            "data": [
                                {
                                    "0": "1",
                                    "1": "Hovedstadsområdet"
                                },
                                {
                                    "0": "2",
                                    "1": "København"
                                },
                                {
                                    "0": "3",
                                    "1": "Nordsjælland"
                                },
                                {
                                    "0": "4",
                                    "1": "Sydsjælland"
                                },
                                {
                                    "0": "5",
                                    "1": "Midtsjælland"
                                },
                                {
                                    "0": "6",
                                    "1": "Vestsjælland"
                                },
                                {
                                    "0": "7",
                                    "1": "Storbælt"
                                },
                                {
                                    "0": "8",
                                    "1": "Femern"
                                },
                                {
                                    "0": "9",
                                    "1": "Midtfyn"
                                },
                                {
                                    "0": "10",
                                    "1": "Sydfyn"
                                }
                            ]
                        },
                        "text/html": "<table><tr><th>PlaceringID</th><th>Placering</th></tr><tr><td>1</td><td>Hovedstadsområdet</td></tr><tr><td>2</td><td>København</td></tr><tr><td>3</td><td>Nordsjælland</td></tr><tr><td>4</td><td>Sydsjælland</td></tr><tr><td>5</td><td>Midtsjælland</td></tr><tr><td>6</td><td>Vestsjælland</td></tr><tr><td>7</td><td>Storbælt</td></tr><tr><td>8</td><td>Femern</td></tr><tr><td>9</td><td>Midtfyn</td></tr><tr><td>10</td><td>Sydfyn</td></tr></table>"
                    },
                    "metadata": {}
                }
            ],
            "execution_count": 29
        },
        {
            "cell_type": "markdown",
            "source": [
                "### 2.1.4 Tabel med alle Banenumre i Danmark (csv import)"
            ],
            "metadata": {
                "azdata_cell_guid": "bc5db1c8-e231-43af-901d-6a63bcbf5df7"
            }
        },
        {
            "cell_type": "code",
            "source": [
                "-- Denne del skal bruges kun hvis man vil fylde tabellen manuelt\r\n",
                "\r\n",
                "-- Alle Banenumre '[allebanenumretabel]'\r\n",
                "\r\n",
                "/*\r\n",
                "USE [Eksamensopgave_jernbaneforvalter]\r\n",
                "\r\n",
                "-- Drop the table if it already exists\r\n",
                "IF OBJECT_ID('[dbo].[allebanenumretabel]', 'U') IS NOT NULL\r\n",
                "DROP TABLE [dbo].[allebanenumretabel]\r\n",
                "GO\r\n",
                "\r\n",
                "\r\n",
                "\r\n",
                "\r\n",
                "CREATE TABLE [dbo].[allebanenumretabel]\r\n",
                "(\r\n",
                "    [Banenummer] INT NOT NULL PRIMARY KEY, \r\n",
                "    [FjernellersbaneID] INT FOREIGN KEY REFERENCES fjernellersbanetabel(FjernellersbaneID),\r\n",
                "    [StatsligellerprivatID] INT FOREIGN KEY REFERENCES statsligellerprivattabel(StatsligellerprivatID),\r\n",
                "    [PlaceringID] INT FOREIGN KEY REFERENCES placeringdanmarktabel(PlaceringID) \r\n",
                "    \r\n",
                ");\r\n",
                "GO\r\n",
                "\r\n",
                "\r\n",
                "\r\n",
                "-- Insert rows into table \r\n",
                "INSERT INTO [dbo].[allebanenumretabel]\r\n",
                "(\r\n",
                " [Banenummer], [FjernellersbaneID], [StatsligellerprivatID], [PlaceringID]\r\n",
                ")\r\n",
                "VALUES\r\n",
                "(1, 1, 1, 1),\r\n",
                "(2, 2, 1, 2),\r\n",
                "(3, 1, 1, 4),\r\n",
                "(4, 1, 1, 8)\r\n",
                "\r\n",
                "\r\n",
                "\r\n",
                "-- View a sample from the table\r\n",
                "SELECT TOP(10) [Banenummer], [FjernellersbaneID], [StatsligellerprivatID], [PlaceringID]\r\n",
                "FROM [dbo].[allebanenumretabel]\r\n",
                "GO\r\n",
                "*/\r\n",
                ""
            ],
            "metadata": {
                "azdata_cell_guid": "aa6456a3-162f-4ab8-8ab2-3a047479aaea"
            },
            "outputs": [],
            "execution_count": null
        },
        {
            "cell_type": "code",
            "source": [
                "-- dbo.allebanenumretabel blev importeret ved hjælp af \"SQL Server Import 1.3.0\". Data var lagret i en csv fil.\r\n",
                "\r\n",
                "-- Importeringsværktøjet har sørget for Primary Key og datatyper. \r\n",
                "\r\n",
                "-- Nu skal der tilføjes de foreign keys der mangler\r\n",
                "\r\n",
                "USE [Eksamensopgave_jernbaneforvalter]\r\n",
                "\r\n",
                "ALTER TABLE allebanenumretabel\r\n",
                "ADD FOREIGN KEY (FjernellersbaneID) REFERENCES fjernellersbanetabel(FjernellersbaneID),\r\n",
                "    FOREIGN KEY (StatsligellerprivatID) REFERENCES statsligellerprivattabel(StatsligellerprivatID),\r\n",
                "    FOREIGN KEY (PlaceringID) REFERENCES placeringdanmarktabel(PlaceringID);\r\n",
                "\r\n",
                "-- View a sample from the table\r\n",
                "SELECT TOP(10) [Banenummer], [FjernellersbaneID], [StatsligellerprivatID], [PlaceringID]\r\n",
                "FROM [dbo].[allebanenumretabel]\r\n",
                "ORDER BY [Banenummer]"
            ],
            "metadata": {
                "azdata_cell_guid": "df5bc025-4eb4-42d6-92a2-565dbfda089b"
            },
            "outputs": [
                {
                    "output_type": "display_data",
                    "data": {
                        "text/html": "(10 rows affected)"
                    },
                    "metadata": {}
                },
                {
                    "output_type": "display_data",
                    "data": {
                        "text/html": "Total execution time: 00:00:00.007"
                    },
                    "metadata": {}
                },
                {
                    "output_type": "execute_result",
                    "execution_count": 1,
                    "data": {
                        "application/vnd.dataresource+json": {
                            "schema": {
                                "fields": [
                                    {
                                        "name": "Banenummer"
                                    },
                                    {
                                        "name": "FjernellersbaneID"
                                    },
                                    {
                                        "name": "StatsligellerprivatID"
                                    },
                                    {
                                        "name": "PlaceringID"
                                    }
                                ]
                            },
                            "data": [
                                {
                                    "0": "1",
                                    "1": "1",
                                    "2": "1",
                                    "3": "1"
                                },
                                {
                                    "0": "2",
                                    "1": "1",
                                    "2": "1",
                                    "3": "1"
                                },
                                {
                                    "0": "3",
                                    "1": "1",
                                    "2": "1",
                                    "3": "1"
                                },
                                {
                                    "0": "4",
                                    "1": "1",
                                    "2": "1",
                                    "3": "2"
                                },
                                {
                                    "0": "5",
                                    "1": "1",
                                    "2": "1",
                                    "3": "2"
                                },
                                {
                                    "0": "6",
                                    "1": "1",
                                    "2": "1",
                                    "3": "2"
                                },
                                {
                                    "0": "7",
                                    "1": "1",
                                    "2": "1",
                                    "3": "3"
                                },
                                {
                                    "0": "8",
                                    "1": "1",
                                    "2": "1",
                                    "3": "3"
                                },
                                {
                                    "0": "9",
                                    "1": "1",
                                    "2": "1",
                                    "3": "3"
                                },
                                {
                                    "0": "10",
                                    "1": "1",
                                    "2": "1",
                                    "3": "4"
                                }
                            ]
                        },
                        "text/html": "<table><tr><th>Banenummer</th><th>FjernellersbaneID</th><th>StatsligellerprivatID</th><th>PlaceringID</th></tr><tr><td>1</td><td>1</td><td>1</td><td>1</td></tr><tr><td>2</td><td>1</td><td>1</td><td>1</td></tr><tr><td>3</td><td>1</td><td>1</td><td>1</td></tr><tr><td>4</td><td>1</td><td>1</td><td>2</td></tr><tr><td>5</td><td>1</td><td>1</td><td>2</td></tr><tr><td>6</td><td>1</td><td>1</td><td>2</td></tr><tr><td>7</td><td>1</td><td>1</td><td>3</td></tr><tr><td>8</td><td>1</td><td>1</td><td>3</td></tr><tr><td>9</td><td>1</td><td>1</td><td>3</td></tr><tr><td>10</td><td>1</td><td>1</td><td>4</td></tr></table>"
                    },
                    "metadata": {}
                }
            ],
            "execution_count": 1
        },
        {
            "cell_type": "markdown",
            "source": [
                "### 2.1.5 Banenummertabellen med alt info (brugervenlig)"
            ],
            "metadata": {
                "azdata_cell_guid": "6657742f-9a4e-47ec-8baa-7ce52a48a27f"
            }
        },
        {
            "cell_type": "code",
            "source": [
                "-- Vis en sample-tabel med nogle banenumre og deres placering, om de er statslige eller private og til sidst om de er Fjern eller S-bane\r\n",
                "\r\n",
                "-- Drop the stored procedure called 'stp_getallbanenumre' in schema 'dbo'\r\n",
                "IF EXISTS (\r\n",
                "SELECT *\r\n",
                "    FROM INFORMATION_SCHEMA.ROUTINES\r\n",
                "WHERE SPECIFIC_SCHEMA = N'dbo'\r\n",
                "    AND SPECIFIC_NAME = N'stp_getallbanenumre'\r\n",
                ")\r\n",
                "DROP PROCEDURE dbo.stp_getallbanenumre\r\n",
                "GO\r\n",
                "\r\n",
                "-- Create a new stored procedure\r\n",
                "CREATE PROCEDURE stp_getallbanenumre @i INT\r\n",
                "AS\r\n",
                "    SELECT TOP(@i) a.Banenummer, p.Placering, f.fjernellersbane, s.Statsligellerprivat\r\n",
                "    FROM [Eksamensopgave_jernbaneforvalter].[dbo].[allebanenumretabel] AS a\r\n",
                "    LEFT OUTER JOIN [Eksamensopgave_jernbaneforvalter].[dbo].[placeringdanmarktabel] AS p ON a.PlaceringID = p.PlaceringID\r\n",
                "    LEFT OUTER JOIN [Eksamensopgave_jernbaneforvalter].[dbo].[fjernellersbanetabel] AS f ON a.FjernellersbaneID = f.FjernellersbaneID\r\n",
                "    LEFT OUTER JOIN [Eksamensopgave_jernbaneforvalter].[dbo].[statsligellerprivattabel] AS s ON a.StatsligellerprivatID = s.StatsligellerprivatID\r\n",
                "    ORDER BY a.Banenummer\r\n",
                "GO\r\n",
                "\r\n",
                "EXEC stp_getallbanenumre @i = 5;\r\n",
                "\r\n",
                ""
            ],
            "metadata": {
                "azdata_cell_guid": "73354e63-7f9a-4780-87d7-a8bf8fbfea23"
            },
            "outputs": [
                {
                    "output_type": "display_data",
                    "data": {
                        "text/html": "Commands completed successfully."
                    },
                    "metadata": {}
                },
                {
                    "output_type": "display_data",
                    "data": {
                        "text/html": "Commands completed successfully."
                    },
                    "metadata": {}
                },
                {
                    "output_type": "display_data",
                    "data": {
                        "text/html": "(5 rows affected)"
                    },
                    "metadata": {}
                },
                {
                    "output_type": "display_data",
                    "data": {
                        "text/html": "Total execution time: 00:00:00.013"
                    },
                    "metadata": {}
                },
                {
                    "output_type": "execute_result",
                    "execution_count": 2,
                    "data": {
                        "application/vnd.dataresource+json": {
                            "schema": {
                                "fields": [
                                    {
                                        "name": "Banenummer"
                                    },
                                    {
                                        "name": "Placering"
                                    },
                                    {
                                        "name": "fjernellersbane"
                                    },
                                    {
                                        "name": "Statsligellerprivat"
                                    }
                                ]
                            },
                            "data": [
                                {
                                    "0": "1",
                                    "1": "Hovedstadsområdet",
                                    "2": "FJERN",
                                    "3": "STATSLIG"
                                },
                                {
                                    "0": "2",
                                    "1": "Hovedstadsområdet",
                                    "2": "FJERN",
                                    "3": "STATSLIG"
                                },
                                {
                                    "0": "3",
                                    "1": "Hovedstadsområdet",
                                    "2": "FJERN",
                                    "3": "STATSLIG"
                                },
                                {
                                    "0": "4",
                                    "1": "København",
                                    "2": "FJERN",
                                    "3": "STATSLIG"
                                },
                                {
                                    "0": "5",
                                    "1": "København",
                                    "2": "FJERN",
                                    "3": "STATSLIG"
                                }
                            ]
                        },
                        "text/html": "<table><tr><th>Banenummer</th><th>Placering</th><th>fjernellersbane</th><th>Statsligellerprivat</th></tr><tr><td>1</td><td>Hovedstadsområdet</td><td>FJERN</td><td>STATSLIG</td></tr><tr><td>2</td><td>Hovedstadsområdet</td><td>FJERN</td><td>STATSLIG</td></tr><tr><td>3</td><td>Hovedstadsområdet</td><td>FJERN</td><td>STATSLIG</td></tr><tr><td>4</td><td>København</td><td>FJERN</td><td>STATSLIG</td></tr><tr><td>5</td><td>København</td><td>FJERN</td><td>STATSLIG</td></tr></table>"
                    },
                    "metadata": {}
                }
            ],
            "execution_count": 2
        },
        {
            "cell_type": "markdown",
            "source": [
                "## 2.2 Equipment (Udstyr)"
            ],
            "metadata": {
                "azdata_cell_guid": "b7e93157-797f-4dd3-996c-d15ca5a6bbc8"
            }
        },
        {
            "cell_type": "markdown",
            "source": [
                "### 2.2.1 Tabel med alle producenter"
            ],
            "metadata": {
                "azdata_cell_guid": "edef414c-d9d4-47b3-b345-25b1f287e06a"
            }
        },
        {
            "cell_type": "code",
            "source": [
                "-- Producent tabel '[producenttabel]'\r\n",
                "\r\n",
                "USE [Eksamensopgave_jernbaneforvalter]\r\n",
                "\r\n",
                "-- Drop the table if it already exists\r\n",
                "IF OBJECT_ID('[dbo].[producenttabel]', 'U') IS NOT NULL\r\n",
                "DROP TABLE [dbo].[producenttabel]\r\n",
                "GO\r\n",
                "\r\n",
                "CREATE TABLE [dbo].[producenttabel]\r\n",
                "(\r\n",
                "    [ProducentID] INT NOT NULL PRIMARY KEY, \r\n",
                "    [Producent] NVARCHAR(50) UNIQUE NOT NULL\r\n",
                ");\r\n",
                "GO\r\n",
                "\r\n",
                "-- Insert rows into table\r\n",
                "INSERT INTO [dbo].[producenttabel]\r\n",
                "(\r\n",
                " [ProducentID], [Producent]\r\n",
                ")\r\n",
                "VALUES\r\n",
                "(1, N'Sagittarius A star Industries'),\r\n",
                "(2, N'Neptune Train Corp'),\r\n",
                "(3, N'Einstein Rosen Bridge Infrastracture')\r\n",
                "\r\n",
                "-- View a sample from the table\r\n",
                "SELECT TOP(10) [ProducentID], [Producent]\r\n",
                "FROM [dbo].[producenttabel]\r\n",
                "ORDER BY ProducentID"
            ],
            "metadata": {
                "azdata_cell_guid": "68ea2674-30d6-4a63-9514-137e3fc3866c"
            },
            "outputs": [
                {
                    "output_type": "display_data",
                    "data": {
                        "text/html": "Commands completed successfully."
                    },
                    "metadata": {}
                },
                {
                    "output_type": "display_data",
                    "data": {
                        "text/html": "Commands completed successfully."
                    },
                    "metadata": {}
                },
                {
                    "output_type": "display_data",
                    "data": {
                        "text/html": "(3 rows affected)"
                    },
                    "metadata": {}
                },
                {
                    "output_type": "display_data",
                    "data": {
                        "text/html": "(3 rows affected)"
                    },
                    "metadata": {}
                },
                {
                    "output_type": "display_data",
                    "data": {
                        "text/html": "Total execution time: 00:00:00.004"
                    },
                    "metadata": {}
                },
                {
                    "output_type": "execute_result",
                    "execution_count": 15,
                    "data": {
                        "application/vnd.dataresource+json": {
                            "schema": {
                                "fields": [
                                    {
                                        "name": "ProducentID"
                                    },
                                    {
                                        "name": "Producent"
                                    }
                                ]
                            },
                            "data": [
                                {
                                    "0": "1",
                                    "1": "Sagittarius A star Industries"
                                },
                                {
                                    "0": "2",
                                    "1": "Neptune Train Corp"
                                },
                                {
                                    "0": "3",
                                    "1": "Einstein Rosen Bridge Infrastracture"
                                }
                            ]
                        },
                        "text/html": "<table><tr><th>ProducentID</th><th>Producent</th></tr><tr><td>1</td><td>Sagittarius A star Industries</td></tr><tr><td>2</td><td>Neptune Train Corp</td></tr><tr><td>3</td><td>Einstein Rosen Bridge Infrastracture</td></tr></table>"
                    },
                    "metadata": {}
                }
            ],
            "execution_count": 15
        },
        {
            "cell_type": "markdown",
            "source": [
                "### 2.2.2 Tabel med alle Equipmentart (udstyrstyper)"
            ],
            "metadata": {
                "azdata_cell_guid": "3d9cb890-ef20-4adf-b00c-cde05181df10"
            }
        },
        {
            "cell_type": "code",
            "source": [
                "-- Equipment art tabel '[equipmentarttabel]'\r\n",
                "\r\n",
                "USE [Eksamensopgave_jernbaneforvalter]\r\n",
                "\r\n",
                "-- Drop the table if it already exists\r\n",
                "IF OBJECT_ID('[dbo].[equipmentarttabel]', 'U') IS NOT NULL\r\n",
                "DROP TABLE [dbo].[equipmentarttabel]\r\n",
                "GO\r\n",
                "\r\n",
                "CREATE TABLE [dbo].[equipmentarttabel]\r\n",
                "(\r\n",
                "    [EquipmentartID] INT NOT NULL PRIMARY KEY, \r\n",
                "    [Equipmentart] NVARCHAR(50) UNIQUE NOT NULL\r\n",
                ");\r\n",
                "GO\r\n",
                "\r\n",
                "-- Insert rows into table\r\n",
                "INSERT INTO [dbo].[equipmentarttabel]\r\n",
                "(\r\n",
                " [EquipmentartID], [Equipmentart]\r\n",
                ")\r\n",
                "VALUES\r\n",
                "(1 ,N'AccessPoint'), (2 ,N'Adgangskontrol'), (3 ,N'Afvandingsanlæg'), (4 ,N'Akseltæller'), (5 ,N'Balise'), (6 ,N'Ballast'), (7 ,N'Batteri/akkumulator'), (8 ,N'Betjeningsapparat'), (9 ,N'Betjeningskasse'), (10 ,N'Bom/Bomdrev'), (11 ,N'Brandsikringsanlæg'), (12 ,N'Fjernstyringsunderst'), (13 ,N'Generatoranlæg'), (14 ,N'Hegn'), (15 ,N'Hovedtavle'), (16 ,N'Isolerklæbestød'), (17 ,N'Kabelanlæg'), (18 ,N'Køreledning'), (19 ,N'Mellemparti(spsk)'), (20 ,N'Mellemskinne(spsk)'), (21 ,N'Overkørselsanlæg'), (22 ,N'Perronbelysning'), (23 ,N'Server'), (24 ,N'Sideskinne(spsk)'), (25 ,N'Signal'), (26 ,N'Skinner'), (27 ,N'Sporskifte'), (28 ,N'Sporskiftedrev'), (29 ,N'Spskvarme'), (30 ,N'Stationssikringsanlæg'), (31 ,N'Støjskærme'), (32 ,N'Sveller'), (33 ,N'Togdetektering'), (34 ,N'Varslingsanlæg'), (35 ,N'Køle/Ventilationsanlæg')\r\n",
                "\r\n",
                "-- View a sample from the table\r\n",
                "SELECT TOP(10) [EquipmentartID], [Equipmentart]\r\n",
                "FROM [dbo].[equipmentarttabel]\r\n",
                "ORDER BY EquipmentartID"
            ],
            "metadata": {
                "azdata_cell_guid": "30c1eeab-336c-46c6-83d7-63077de6c9c8"
            },
            "outputs": [
                {
                    "output_type": "display_data",
                    "data": {
                        "text/html": "Commands completed successfully."
                    },
                    "metadata": {}
                },
                {
                    "output_type": "display_data",
                    "data": {
                        "text/html": "Commands completed successfully."
                    },
                    "metadata": {}
                },
                {
                    "output_type": "display_data",
                    "data": {
                        "text/html": "(35 rows affected)"
                    },
                    "metadata": {}
                },
                {
                    "output_type": "display_data",
                    "data": {
                        "text/html": "(10 rows affected)"
                    },
                    "metadata": {}
                },
                {
                    "output_type": "display_data",
                    "data": {
                        "text/html": "Total execution time: 00:00:00.005"
                    },
                    "metadata": {}
                },
                {
                    "output_type": "execute_result",
                    "execution_count": 16,
                    "data": {
                        "application/vnd.dataresource+json": {
                            "schema": {
                                "fields": [
                                    {
                                        "name": "EquipmentartID"
                                    },
                                    {
                                        "name": "Equipmentart"
                                    }
                                ]
                            },
                            "data": [
                                {
                                    "0": "1",
                                    "1": "AccessPoint"
                                },
                                {
                                    "0": "2",
                                    "1": "Adgangskontrol"
                                },
                                {
                                    "0": "3",
                                    "1": "Afvandingsanlæg"
                                },
                                {
                                    "0": "4",
                                    "1": "Akseltæller"
                                },
                                {
                                    "0": "5",
                                    "1": "Balise"
                                },
                                {
                                    "0": "6",
                                    "1": "Ballast"
                                },
                                {
                                    "0": "7",
                                    "1": "Batteri/akkumulator"
                                },
                                {
                                    "0": "8",
                                    "1": "Betjeningsapparat"
                                },
                                {
                                    "0": "9",
                                    "1": "Betjeningskasse"
                                },
                                {
                                    "0": "10",
                                    "1": "Bom/Bomdrev"
                                }
                            ]
                        },
                        "text/html": "<table><tr><th>EquipmentartID</th><th>Equipmentart</th></tr><tr><td>1</td><td>AccessPoint</td></tr><tr><td>2</td><td>Adgangskontrol</td></tr><tr><td>3</td><td>Afvandingsanlæg</td></tr><tr><td>4</td><td>Akseltæller</td></tr><tr><td>5</td><td>Balise</td></tr><tr><td>6</td><td>Ballast</td></tr><tr><td>7</td><td>Batteri/akkumulator</td></tr><tr><td>8</td><td>Betjeningsapparat</td></tr><tr><td>9</td><td>Betjeningskasse</td></tr><tr><td>10</td><td>Bom/Bomdrev</td></tr></table>"
                    },
                    "metadata": {}
                }
            ],
            "execution_count": 16
        },
        {
            "cell_type": "markdown",
            "source": [
                "### 2.2.3 Tabel med alle modelnumre af udstyr (csv import)"
            ],
            "metadata": {
                "azdata_cell_guid": "be2736e1-5ddf-470b-a43e-b40ef56c75ba"
            }
        },
        {
            "cell_type": "code",
            "source": [
                "-- dbo.allemodelnumretabel blev importeret ved hjælp af \"SQL Server Import 1.3.0\". Data var lagret i en csv fil.\r\n",
                "\r\n",
                "-- Importeringsværktøjet har sørget for Primary Key og datatyper. \r\n",
                "\r\n",
                "-- Nu skal der tilføjes de foreign keys der mangler\r\n",
                "\r\n",
                "USE [Eksamensopgave_jernbaneforvalter]\r\n",
                "\r\n",
                "ALTER TABLE allemodelnumretabel\r\n",
                "ADD FOREIGN KEY (EquipmentartID) REFERENCES equipmentarttabel(EquipmentartID),\r\n",
                "    FOREIGN KEY (ProducentID) REFERENCES producenttabel(ProducentID);\r\n",
                "\r\n",
                "-- View a sample from the table\r\n",
                "SELECT TOP(10) [Modelnummer], [EquipmentartID], [ProducentID], [Anvendelsesaar]\r\n",
                "FROM [dbo].[allemodelnumretabel]\r\n",
                "ORDER BY Modelnummer"
            ],
            "metadata": {
                "azdata_cell_guid": "019a9122-33df-4ff4-9629-c1beb3254981"
            },
            "outputs": [
                {
                    "output_type": "display_data",
                    "data": {
                        "text/html": "(10 rows affected)"
                    },
                    "metadata": {}
                },
                {
                    "output_type": "display_data",
                    "data": {
                        "text/html": "Total execution time: 00:00:00.004"
                    },
                    "metadata": {}
                },
                {
                    "output_type": "execute_result",
                    "execution_count": 32,
                    "data": {
                        "application/vnd.dataresource+json": {
                            "schema": {
                                "fields": [
                                    {
                                        "name": "Modelnummer"
                                    },
                                    {
                                        "name": "EquipmentartID"
                                    },
                                    {
                                        "name": "ProducentID"
                                    },
                                    {
                                        "name": "Anvendelsesaar"
                                    }
                                ]
                            },
                            "data": [
                                {
                                    "0": "B22024A",
                                    "1": "1",
                                    "2": "2",
                                    "3": "2010"
                                },
                                {
                                    "0": "B22025A",
                                    "1": "1",
                                    "2": "3",
                                    "3": "2015"
                                },
                                {
                                    "0": "B22026A",
                                    "1": "2",
                                    "2": "1",
                                    "3": "1990"
                                },
                                {
                                    "0": "B22027A",
                                    "1": "2",
                                    "2": "2",
                                    "3": "2010"
                                },
                                {
                                    "0": "B22028A",
                                    "1": "2",
                                    "2": "3",
                                    "3": "2015"
                                },
                                {
                                    "0": "B22029A",
                                    "1": "3",
                                    "2": "1",
                                    "3": "1990"
                                },
                                {
                                    "0": "B22030A",
                                    "1": "3",
                                    "2": "2",
                                    "3": "2010"
                                },
                                {
                                    "0": "B22031A",
                                    "1": "3",
                                    "2": "3",
                                    "3": "2015"
                                },
                                {
                                    "0": "B22032A",
                                    "1": "4",
                                    "2": "1",
                                    "3": "1990"
                                },
                                {
                                    "0": "B22033A",
                                    "1": "4",
                                    "2": "2",
                                    "3": "2010"
                                }
                            ]
                        },
                        "text/html": "<table><tr><th>Modelnummer</th><th>EquipmentartID</th><th>ProducentID</th><th>Anvendelsesaar</th></tr><tr><td>B22024A</td><td>1</td><td>2</td><td>2010</td></tr><tr><td>B22025A</td><td>1</td><td>3</td><td>2015</td></tr><tr><td>B22026A</td><td>2</td><td>1</td><td>1990</td></tr><tr><td>B22027A</td><td>2</td><td>2</td><td>2010</td></tr><tr><td>B22028A</td><td>2</td><td>3</td><td>2015</td></tr><tr><td>B22029A</td><td>3</td><td>1</td><td>1990</td></tr><tr><td>B22030A</td><td>3</td><td>2</td><td>2010</td></tr><tr><td>B22031A</td><td>3</td><td>3</td><td>2015</td></tr><tr><td>B22032A</td><td>4</td><td>1</td><td>1990</td></tr><tr><td>B22033A</td><td>4</td><td>2</td><td>2010</td></tr></table>"
                    },
                    "metadata": {}
                }
            ],
            "execution_count": 32
        },
        {
            "cell_type": "markdown",
            "source": [
                "### 2.2.4 Alle modelnumre med alt info (brugervenlig)"
            ],
            "metadata": {
                "azdata_cell_guid": "0bce8072-730f-4eb5-b4e9-6cb331162278"
            }
        },
        {
            "cell_type": "code",
            "source": [
                "-- Vis en sample-tabel med nogle modelnumre og deres art, producent og anvendelsesår\r\n",
                "\r\n",
                "-- Drop the stored procedure called 'stp_getallmodelnumre' in schema 'dbo'\r\n",
                "\r\n",
                "USE [Eksamensopgave_jernbaneforvalter]\r\n",
                "\r\n",
                "IF EXISTS (\r\n",
                "SELECT *\r\n",
                "    FROM INFORMATION_SCHEMA.ROUTINES\r\n",
                "WHERE SPECIFIC_SCHEMA = N'dbo'\r\n",
                "    AND SPECIFIC_NAME = N'stp_getallmodelnumre'\r\n",
                ")\r\n",
                "DROP PROCEDURE dbo.stp_getallmodelnumre\r\n",
                "GO\r\n",
                "\r\n",
                "-- Create a new stored procedure\r\n",
                "CREATE PROCEDURE stp_getallmodelnumre @i INT\r\n",
                "AS\r\n",
                "    SELECT TOP(@i) a.Modelnummer, e.Equipmentart, p.Producent, a.Anvendelsesaar\r\n",
                "    FROM [Eksamensopgave_jernbaneforvalter].[dbo].[allemodelnumretabel] AS a\r\n",
                "    LEFT OUTER JOIN [Eksamensopgave_jernbaneforvalter].[dbo].[producenttabel] AS p ON a.ProducentID = p.ProducentID\r\n",
                "    LEFT OUTER JOIN [Eksamensopgave_jernbaneforvalter].[dbo].[equipmentarttabel] AS e ON a.EquipmentartID = e.EquipmentartID\r\n",
                "    ORDER BY a.Modelnummer\r\n",
                "GO\r\n",
                "\r\n",
                "EXEC stp_getallmodelnumre @i = 5;\r\n",
                "\r\n",
                ""
            ],
            "metadata": {
                "azdata_cell_guid": "762dcd18-a3b4-4365-8fb8-4447fa909017"
            },
            "outputs": [
                {
                    "output_type": "display_data",
                    "data": {
                        "text/html": "Commands completed successfully."
                    },
                    "metadata": {}
                },
                {
                    "output_type": "display_data",
                    "data": {
                        "text/html": "Commands completed successfully."
                    },
                    "metadata": {}
                },
                {
                    "output_type": "display_data",
                    "data": {
                        "text/html": "(5 rows affected)"
                    },
                    "metadata": {}
                },
                {
                    "output_type": "display_data",
                    "data": {
                        "text/html": "Total execution time: 00:00:00.009"
                    },
                    "metadata": {}
                },
                {
                    "output_type": "execute_result",
                    "execution_count": 19,
                    "data": {
                        "application/vnd.dataresource+json": {
                            "schema": {
                                "fields": [
                                    {
                                        "name": "Modelnummer"
                                    },
                                    {
                                        "name": "Equipmentart"
                                    },
                                    {
                                        "name": "Producent"
                                    },
                                    {
                                        "name": "Anvendelsesaar"
                                    }
                                ]
                            },
                            "data": [
                                {
                                    "0": "B22024A",
                                    "1": "AccessPoint",
                                    "2": "Neptune Train Corp",
                                    "3": "2010"
                                },
                                {
                                    "0": "B22025A",
                                    "1": "AccessPoint",
                                    "2": "Einstein Rosen Bridge Infrastracture",
                                    "3": "2015"
                                },
                                {
                                    "0": "B22026A",
                                    "1": "Adgangskontrol",
                                    "2": "Sagittarius A star Industries",
                                    "3": "1990"
                                },
                                {
                                    "0": "B22027A",
                                    "1": "Adgangskontrol",
                                    "2": "Neptune Train Corp",
                                    "3": "2010"
                                },
                                {
                                    "0": "B22028A",
                                    "1": "Adgangskontrol",
                                    "2": "Einstein Rosen Bridge Infrastracture",
                                    "3": "2015"
                                }
                            ]
                        },
                        "text/html": "<table><tr><th>Modelnummer</th><th>Equipmentart</th><th>Producent</th><th>Anvendelsesaar</th></tr><tr><td>B22024A</td><td>AccessPoint</td><td>Neptune Train Corp</td><td>2010</td></tr><tr><td>B22025A</td><td>AccessPoint</td><td>Einstein Rosen Bridge Infrastracture</td><td>2015</td></tr><tr><td>B22026A</td><td>Adgangskontrol</td><td>Sagittarius A star Industries</td><td>1990</td></tr><tr><td>B22027A</td><td>Adgangskontrol</td><td>Neptune Train Corp</td><td>2010</td></tr><tr><td>B22028A</td><td>Adgangskontrol</td><td>Einstein Rosen Bridge Infrastracture</td><td>2015</td></tr></table>"
                    },
                    "metadata": {}
                }
            ],
            "execution_count": 19
        },
        {
            "cell_type": "markdown",
            "source": [
                "## 2.3 Medarbejdere"
            ],
            "metadata": {
                "azdata_cell_guid": "6a880194-363d-4518-bf1f-4b9763a6fad1"
            }
        },
        {
            "cell_type": "markdown",
            "source": [
                "### 2.3.1 Tabel med jobfuktioner"
            ],
            "metadata": {
                "azdata_cell_guid": "e08913d7-2953-44a4-a5c5-3bd929096380"
            }
        },
        {
            "cell_type": "code",
            "source": [
                "-- Jobfunktioner tabel '[jobfunktiontabel]'\r\n",
                "\r\n",
                "USE [Eksamensopgave_jernbaneforvalter]\r\n",
                "\r\n",
                "-- Drop the table if it already exists\r\n",
                "IF OBJECT_ID('[dbo].[jobfunktiontabel]', 'U') IS NOT NULL\r\n",
                "DROP TABLE [dbo].[jobfunktiontabel]\r\n",
                "GO\r\n",
                "\r\n",
                "CREATE TABLE [dbo].[jobfunktiontabel]\r\n",
                "(\r\n",
                "    [JobfunktionID] INT NOT NULL PRIMARY KEY, \r\n",
                "    [Jobfunktion] NVARCHAR(50) UNIQUE NOT NULL\r\n",
                ");\r\n",
                "GO\r\n",
                "\r\n",
                "-- Insert rows into table\r\n",
                "INSERT INTO [dbo].[jobfunktiontabel]\r\n",
                "(\r\n",
                " [JobfunktionID], [Jobfunktion]\r\n",
                ")\r\n",
                "VALUES\r\n",
                "(1, N'El-tekniker'),\r\n",
                "(2, N'El-Ingeniør'),\r\n",
                "(3, N'Spor-tekniker'),\r\n",
                "(4, N'Spor-Ingeniør'),\r\n",
                "(5, N'IT-tekniker'),\r\n",
                "(6, N'IT-Ingeniør')\r\n",
                "\r\n",
                "-- View a sample from the table\r\n",
                "SELECT TOP(10) [JobfunktionID], [Jobfunktion]\r\n",
                "FROM [dbo].[jobfunktiontabel]\r\n",
                "ORDER BY JobfunktionID"
            ],
            "metadata": {
                "azdata_cell_guid": "5403ff97-07a3-4a4d-99c9-61bf7030ffaa"
            },
            "outputs": [
                {
                    "output_type": "display_data",
                    "data": {
                        "text/html": "Commands completed successfully."
                    },
                    "metadata": {}
                },
                {
                    "output_type": "display_data",
                    "data": {
                        "text/html": "Commands completed successfully."
                    },
                    "metadata": {}
                },
                {
                    "output_type": "display_data",
                    "data": {
                        "text/html": "(6 rows affected)"
                    },
                    "metadata": {}
                },
                {
                    "output_type": "display_data",
                    "data": {
                        "text/html": "(6 rows affected)"
                    },
                    "metadata": {}
                },
                {
                    "output_type": "display_data",
                    "data": {
                        "text/html": "Total execution time: 00:00:00.004"
                    },
                    "metadata": {}
                },
                {
                    "output_type": "execute_result",
                    "execution_count": 6,
                    "data": {
                        "application/vnd.dataresource+json": {
                            "schema": {
                                "fields": [
                                    {
                                        "name": "JobfunktionID"
                                    },
                                    {
                                        "name": "Jobfunktion"
                                    }
                                ]
                            },
                            "data": [
                                {
                                    "0": "1",
                                    "1": "El-tekniker"
                                },
                                {
                                    "0": "2",
                                    "1": "El-Ingeniør"
                                },
                                {
                                    "0": "3",
                                    "1": "Spor-tekniker"
                                },
                                {
                                    "0": "4",
                                    "1": "Spor-Ingeniør"
                                },
                                {
                                    "0": "5",
                                    "1": "IT-tekniker"
                                },
                                {
                                    "0": "6",
                                    "1": "IT-Ingeniør"
                                }
                            ]
                        },
                        "text/html": "<table><tr><th>JobfunktionID</th><th>Jobfunktion</th></tr><tr><td>1</td><td>El-tekniker</td></tr><tr><td>2</td><td>El-Ingeniør</td></tr><tr><td>3</td><td>Spor-tekniker</td></tr><tr><td>4</td><td>Spor-Ingeniør</td></tr><tr><td>5</td><td>IT-tekniker</td></tr><tr><td>6</td><td>IT-Ingeniør</td></tr></table>"
                    },
                    "metadata": {}
                }
            ],
            "execution_count": 6
        },
        {
            "cell_type": "markdown",
            "source": [
                "### 2.3.2 Tabel med alle afdelinger"
            ],
            "metadata": {
                "azdata_cell_guid": "4ea1e352-8458-4511-b694-0a752e8732f7"
            }
        },
        {
            "cell_type": "code",
            "source": [
                "-- Afdelinger tabel '[afdelingtabel]'\r\n",
                "\r\n",
                "USE [Eksamensopgave_jernbaneforvalter]\r\n",
                "\r\n",
                "-- Drop the table if it already exists\r\n",
                "IF OBJECT_ID('[dbo].[afdelingtabel]', 'U') IS NOT NULL\r\n",
                "DROP TABLE [dbo].[afdelingtabel]\r\n",
                "GO\r\n",
                "\r\n",
                "CREATE TABLE [dbo].[afdelingtabel]\r\n",
                "(\r\n",
                "    [AfdelingID] INT NOT NULL PRIMARY KEY, \r\n",
                "    [Afdeling] NVARCHAR(50) UNIQUE NOT NULL,\r\n",
                "    [Leder] INT NOT NULL -- Det vil blive til en Foreign Key senere (som pejer til en bestemt medarbejder)\r\n",
                "    \r\n",
                ");\r\n",
                "GO\r\n",
                "\r\n",
                "-- Insert rows into table\r\n",
                "INSERT INTO [dbo].[afdelingtabel]\r\n",
                "(\r\n",
                " [AfdelingID], [Afdeling], [Leder]\r\n",
                ")\r\n",
                "VALUES\r\n",
                "(1, N'Signalsystemer', 4906),\r\n",
                "(2, N'Sporkonstruktioner', 4907),\r\n",
                "(3, N'IT-Drift', 4905)\r\n",
                "\r\n",
                "-- View a sample from the table\r\n",
                "SELECT TOP(10) [AfdelingID], [Afdeling], [Leder]\r\n",
                "FROM [dbo].[afdelingtabel]\r\n",
                "ORDER BY AfdelingID"
            ],
            "metadata": {
                "azdata_cell_guid": "d248b975-b014-43ed-8782-2b3436e52d4e"
            },
            "outputs": [
                {
                    "output_type": "display_data",
                    "data": {
                        "text/html": "Commands completed successfully."
                    },
                    "metadata": {}
                },
                {
                    "output_type": "display_data",
                    "data": {
                        "text/html": "Commands completed successfully."
                    },
                    "metadata": {}
                },
                {
                    "output_type": "display_data",
                    "data": {
                        "text/html": "(3 rows affected)"
                    },
                    "metadata": {}
                },
                {
                    "output_type": "display_data",
                    "data": {
                        "text/html": "(3 rows affected)"
                    },
                    "metadata": {}
                },
                {
                    "output_type": "display_data",
                    "data": {
                        "text/html": "Total execution time: 00:00:00.004"
                    },
                    "metadata": {}
                },
                {
                    "output_type": "execute_result",
                    "execution_count": 7,
                    "data": {
                        "application/vnd.dataresource+json": {
                            "schema": {
                                "fields": [
                                    {
                                        "name": "AfdelingID"
                                    },
                                    {
                                        "name": "Afdeling"
                                    },
                                    {
                                        "name": "Leder"
                                    }
                                ]
                            },
                            "data": [
                                {
                                    "0": "1",
                                    "1": "Signalsystemer",
                                    "2": "4906"
                                },
                                {
                                    "0": "2",
                                    "1": "Sporkonstruktioner",
                                    "2": "4907"
                                },
                                {
                                    "0": "3",
                                    "1": "IT-Drift",
                                    "2": "4905"
                                }
                            ]
                        },
                        "text/html": "<table><tr><th>AfdelingID</th><th>Afdeling</th><th>Leder</th></tr><tr><td>1</td><td>Signalsystemer</td><td>4906</td></tr><tr><td>2</td><td>Sporkonstruktioner</td><td>4907</td></tr><tr><td>3</td><td>IT-Drift</td><td>4905</td></tr></table>"
                    },
                    "metadata": {}
                }
            ],
            "execution_count": 7
        },
        {
            "cell_type": "markdown",
            "source": [
                "### 2.3.3 Tabel med alle medarbejdere (csv import)"
            ],
            "metadata": {
                "azdata_cell_guid": "f1788a4c-19a7-4516-85c0-94b16902a9cd"
            }
        },
        {
            "cell_type": "code",
            "source": [
                "-- dbo.allemedarbejderetabel blev importeret ved hjælp af \"SQL Server Import 1.3.0\". Data var lagret i en csv fil.\r\n",
                "\r\n",
                "-- Importeringsværktøjet har sørget for Primary Key og datatyper. \r\n",
                "\r\n",
                "-- Nu skal der tilføjes de foreign keys der mangler\r\n",
                "\r\n",
                "USE [Eksamensopgave_jernbaneforvalter]\r\n",
                "\r\n",
                "ALTER TABLE allemedarbejderetabel\r\n",
                "ADD FOREIGN KEY (JobfunktionID) REFERENCES jobfunktiontabel(JobfunktionID),\r\n",
                "    FOREIGN KEY (AfdelingID) REFERENCES afdelingtabel(AfdelingID);\r\n",
                "\r\n",
                "-- View a sample from the table\r\n",
                "SELECT TOP(10) [Medarbejdernummer], [Title], [Navn], [Middelnavn], [Efternavn], [JobfunktionID], [AfdelingID]\r\n",
                "FROM [dbo].[allemedarbejderetabel]\r\n",
                "ORDER BY Medarbejdernummer"
            ],
            "metadata": {
                "azdata_cell_guid": "9cf73269-a56e-4b2d-89c9-f1c05092990c"
            },
            "outputs": [
                {
                    "output_type": "display_data",
                    "data": {
                        "text/html": "(10 rows affected)"
                    },
                    "metadata": {}
                },
                {
                    "output_type": "display_data",
                    "data": {
                        "text/html": "Total execution time: 00:00:00.009"
                    },
                    "metadata": {}
                },
                {
                    "output_type": "execute_result",
                    "execution_count": 9,
                    "data": {
                        "application/vnd.dataresource+json": {
                            "schema": {
                                "fields": [
                                    {
                                        "name": "Medarbejdernummer"
                                    },
                                    {
                                        "name": "Title"
                                    },
                                    {
                                        "name": "Navn"
                                    },
                                    {
                                        "name": "Middelnavn"
                                    },
                                    {
                                        "name": "Efternavn"
                                    },
                                    {
                                        "name": "JobfunktionID"
                                    },
                                    {
                                        "name": "AfdelingID"
                                    }
                                ]
                            },
                            "data": [
                                {
                                    "0": "4885",
                                    "1": "NULL",
                                    "2": "Ken",
                                    "3": "J",
                                    "4": "Sanchez",
                                    "5": "4",
                                    "6": "2"
                                },
                                {
                                    "0": "4886",
                                    "1": "NULL",
                                    "2": "Terri",
                                    "3": "Lee",
                                    "4": "Duffy",
                                    "5": "3",
                                    "6": "2"
                                },
                                {
                                    "0": "4887",
                                    "1": "NULL",
                                    "2": "Roberto",
                                    "3": "NULL",
                                    "4": "Tamburello",
                                    "5": "2",
                                    "6": "1"
                                },
                                {
                                    "0": "4888",
                                    "1": "NULL",
                                    "2": "Rob",
                                    "3": "NULL",
                                    "4": "Walters",
                                    "5": "4",
                                    "6": "2"
                                },
                                {
                                    "0": "4889",
                                    "1": "Ms.",
                                    "2": "Gail",
                                    "3": "A",
                                    "4": "Erickson",
                                    "5": "2",
                                    "6": "1"
                                },
                                {
                                    "0": "4890",
                                    "1": "Mr.",
                                    "2": "Jossef",
                                    "3": "H",
                                    "4": "Goldberg",
                                    "5": "1",
                                    "6": "1"
                                },
                                {
                                    "0": "4891",
                                    "1": "NULL",
                                    "2": "Dylan",
                                    "3": "A",
                                    "4": "Miller",
                                    "5": "3",
                                    "6": "2"
                                },
                                {
                                    "0": "4892",
                                    "1": "NULL",
                                    "2": "Diane",
                                    "3": "L",
                                    "4": "Margheim",
                                    "5": "1",
                                    "6": "1"
                                },
                                {
                                    "0": "4893",
                                    "1": "NULL",
                                    "2": "Gigi",
                                    "3": "N",
                                    "4": "Matthew",
                                    "5": "1",
                                    "6": "1"
                                },
                                {
                                    "0": "4894",
                                    "1": "NULL",
                                    "2": "Michael",
                                    "3": "NULL",
                                    "4": "Raheem",
                                    "5": "3",
                                    "6": "2"
                                }
                            ]
                        },
                        "text/html": "<table><tr><th>Medarbejdernummer</th><th>Title</th><th>Navn</th><th>Middelnavn</th><th>Efternavn</th><th>JobfunktionID</th><th>AfdelingID</th></tr><tr><td>4885</td><td>NULL</td><td>Ken</td><td>J</td><td>Sanchez</td><td>4</td><td>2</td></tr><tr><td>4886</td><td>NULL</td><td>Terri</td><td>Lee</td><td>Duffy</td><td>3</td><td>2</td></tr><tr><td>4887</td><td>NULL</td><td>Roberto</td><td>NULL</td><td>Tamburello</td><td>2</td><td>1</td></tr><tr><td>4888</td><td>NULL</td><td>Rob</td><td>NULL</td><td>Walters</td><td>4</td><td>2</td></tr><tr><td>4889</td><td>Ms.</td><td>Gail</td><td>A</td><td>Erickson</td><td>2</td><td>1</td></tr><tr><td>4890</td><td>Mr.</td><td>Jossef</td><td>H</td><td>Goldberg</td><td>1</td><td>1</td></tr><tr><td>4891</td><td>NULL</td><td>Dylan</td><td>A</td><td>Miller</td><td>3</td><td>2</td></tr><tr><td>4892</td><td>NULL</td><td>Diane</td><td>L</td><td>Margheim</td><td>1</td><td>1</td></tr><tr><td>4893</td><td>NULL</td><td>Gigi</td><td>N</td><td>Matthew</td><td>1</td><td>1</td></tr><tr><td>4894</td><td>NULL</td><td>Michael</td><td>NULL</td><td>Raheem</td><td>3</td><td>2</td></tr></table>"
                    },
                    "metadata": {}
                }
            ],
            "execution_count": 9
        },
        {
            "cell_type": "code",
            "source": [
                "-- Tilføj et Foreign Key til afdelingtabellen. Lederkolonnen skal pege på Medarbejdernummer kolonnen i dbo.allemedarbejderetabel.\r\n",
                "\r\n",
                "USE [Eksamensopgave_jernbaneforvalter]\r\n",
                "\r\n",
                "ALTER TABLE afdelingtabel\r\n",
                "ADD FOREIGN KEY (Leder) REFERENCES allemedarbejderetabel(Medarbejdernummer);\r\n",
                "\r\n",
                "-- View a sample from the table\r\n",
                "SELECT TOP(10) [AfdelingID], [Afdeling], [Leder]\r\n",
                "FROM [dbo].[afdelingtabel]\r\n",
                "ORDER BY AfdelingID"
            ],
            "metadata": {
                "azdata_cell_guid": "834daf33-21a5-49d6-84e8-eb49cfd52a5f"
            },
            "outputs": [
                {
                    "output_type": "display_data",
                    "data": {
                        "text/html": "(3 rows affected)"
                    },
                    "metadata": {}
                },
                {
                    "output_type": "display_data",
                    "data": {
                        "text/html": "Total execution time: 00:00:00.007"
                    },
                    "metadata": {}
                },
                {
                    "output_type": "execute_result",
                    "execution_count": 11,
                    "data": {
                        "application/vnd.dataresource+json": {
                            "schema": {
                                "fields": [
                                    {
                                        "name": "AfdelingID"
                                    },
                                    {
                                        "name": "Afdeling"
                                    },
                                    {
                                        "name": "Leder"
                                    }
                                ]
                            },
                            "data": [
                                {
                                    "0": "1",
                                    "1": "Signalsystemer",
                                    "2": "4906"
                                },
                                {
                                    "0": "2",
                                    "1": "Sporkonstruktioner",
                                    "2": "4907"
                                },
                                {
                                    "0": "3",
                                    "1": "IT-Drift",
                                    "2": "4905"
                                }
                            ]
                        },
                        "text/html": "<table><tr><th>AfdelingID</th><th>Afdeling</th><th>Leder</th></tr><tr><td>1</td><td>Signalsystemer</td><td>4906</td></tr><tr><td>2</td><td>Sporkonstruktioner</td><td>4907</td></tr><tr><td>3</td><td>IT-Drift</td><td>4905</td></tr></table>"
                    },
                    "metadata": {}
                }
            ],
            "execution_count": 11
        },
        {
            "cell_type": "markdown",
            "source": [
                "### 2.3.4 Medarbejdere med alt info (brugervenlig)"
            ],
            "metadata": {
                "azdata_cell_guid": "ee097651-9ff9-47fd-aa97-560c9d4c7899"
            }
        },
        {
            "cell_type": "code",
            "source": [
                "-- Vis en sample-tabel med nogle medarbejdere og jobfunktion, afdeling og leder\r\n",
                "\r\n",
                "-- Drop the stored procedure called 'stp_getallmedarbejdere' in schema 'dbo'\r\n",
                "USE [Eksamensopgave_jernbaneforvalter]\r\n",
                "\r\n",
                "IF EXISTS (\r\n",
                "SELECT *\r\n",
                "    FROM INFORMATION_SCHEMA.ROUTINES\r\n",
                "WHERE SPECIFIC_SCHEMA = N'dbo'\r\n",
                "    AND SPECIFIC_NAME = N'stp_getallmedarbejdere'\r\n",
                ")\r\n",
                "DROP PROCEDURE dbo.stp_getallmedarbejdere\r\n",
                "GO\r\n",
                "\r\n",
                "-- Create a new stored procedure\r\n",
                "CREATE PROCEDURE stp_getallmedarbejdere @i INT\r\n",
                "AS\r\n",
                "    ;WITH\r\n",
                "    AfdWithMng AS(\r\n",
                "        SELECT \r\n",
                "            afd.AfdelingID,\r\n",
                "            afd.Afdeling,\r\n",
                "            ISNULL(mrb.Title + ' ', '') + ISNULL(mrb.Navn + ' ', '') + ISNULL(mrb.Middelnavn + ' ', '') + ISNULL(mrb.Efternavn + ' ', '') AS [LederensNavn]\r\n",
                "        FROM [Eksamensopgave_jernbaneforvalter].[dbo].[afdelingtabel] AS afd\r\n",
                "        LEFT OUTER JOIN [Eksamensopgave_jernbaneforvalter].[dbo].[allemedarbejderetabel] AS mrb ON afd.Leder = mrb.Medarbejdernummer\r\n",
                "    )\r\n",
                "    SELECT TOP(@i) a.Medarbejdernummer, \r\n",
                "        ISNULL(a.Title + ' ', '') + ISNULL(a.Navn + ' ', '') + ISNULL(a.Middelnavn + ' ', '') + ISNULL(a.Efternavn + ' ', '') AS [Fuldnavn],\r\n",
                "        j.Jobfunktion,\r\n",
                "        afmgr.Afdeling,\r\n",
                "        afmgr.LederensNavn\r\n",
                "    FROM [Eksamensopgave_jernbaneforvalter].[dbo].[allemedarbejderetabel] AS a\r\n",
                "    LEFT OUTER JOIN [Eksamensopgave_jernbaneforvalter].[dbo].[jobfunktiontabel] AS j ON a.JobfunktionID = j.JobfunktionID\r\n",
                "    LEFT OUTER JOIN AfdWithMng AS afmgr ON a.AfdelingID = afmgr.AfdelingID\r\n",
                "    ORDER BY a.Medarbejdernummer;\r\n",
                "GO\r\n",
                "\r\n",
                "EXEC stp_getallmedarbejdere @i = 5;"
            ],
            "metadata": {
                "azdata_cell_guid": "c4e1d4f4-722b-4602-81c8-db4ec936166b"
            },
            "outputs": [
                {
                    "output_type": "display_data",
                    "data": {
                        "text/html": "Commands completed successfully."
                    },
                    "metadata": {}
                },
                {
                    "output_type": "display_data",
                    "data": {
                        "text/html": "Commands completed successfully."
                    },
                    "metadata": {}
                },
                {
                    "output_type": "display_data",
                    "data": {
                        "text/html": "(5 rows affected)"
                    },
                    "metadata": {}
                },
                {
                    "output_type": "display_data",
                    "data": {
                        "text/html": "Total execution time: 00:00:00.005"
                    },
                    "metadata": {}
                },
                {
                    "output_type": "execute_result",
                    "execution_count": 20,
                    "data": {
                        "application/vnd.dataresource+json": {
                            "schema": {
                                "fields": [
                                    {
                                        "name": "Medarbejdernummer"
                                    },
                                    {
                                        "name": "Fuldnavn"
                                    },
                                    {
                                        "name": "Jobfunktion"
                                    },
                                    {
                                        "name": "Afdeling"
                                    },
                                    {
                                        "name": "LederensNavn"
                                    }
                                ]
                            },
                            "data": [
                                {
                                    "0": "4885",
                                    "1": "Ken J Sanchez ",
                                    "2": "Spor-Ingeniør",
                                    "3": "Sporkonstruktioner",
                                    "4": "Mary E Gibson "
                                },
                                {
                                    "0": "4886",
                                    "1": "Terri Lee Duffy ",
                                    "2": "Spor-tekniker",
                                    "3": "Sporkonstruktioner",
                                    "4": "Mary E Gibson "
                                },
                                {
                                    "0": "4887",
                                    "1": "Roberto Tamburello ",
                                    "2": "El-Ingeniør",
                                    "3": "Signalsystemer",
                                    "4": "Sariya E Harnpadoungsataya "
                                },
                                {
                                    "0": "4888",
                                    "1": "Rob Walters ",
                                    "2": "Spor-Ingeniør",
                                    "3": "Sporkonstruktioner",
                                    "4": "Mary E Gibson "
                                },
                                {
                                    "0": "4889",
                                    "1": "Ms. Gail A Erickson ",
                                    "2": "El-Ingeniør",
                                    "3": "Signalsystemer",
                                    "4": "Sariya E Harnpadoungsataya "
                                }
                            ]
                        },
                        "text/html": "<table><tr><th>Medarbejdernummer</th><th>Fuldnavn</th><th>Jobfunktion</th><th>Afdeling</th><th>LederensNavn</th></tr><tr><td>4885</td><td>Ken J Sanchez </td><td>Spor-Ingeniør</td><td>Sporkonstruktioner</td><td>Mary E Gibson </td></tr><tr><td>4886</td><td>Terri Lee Duffy </td><td>Spor-tekniker</td><td>Sporkonstruktioner</td><td>Mary E Gibson </td></tr><tr><td>4887</td><td>Roberto Tamburello </td><td>El-Ingeniør</td><td>Signalsystemer</td><td>Sariya E Harnpadoungsataya </td></tr><tr><td>4888</td><td>Rob Walters </td><td>Spor-Ingeniør</td><td>Sporkonstruktioner</td><td>Mary E Gibson </td></tr><tr><td>4889</td><td>Ms. Gail A Erickson </td><td>El-Ingeniør</td><td>Signalsystemer</td><td>Sariya E Harnpadoungsataya </td></tr></table>"
                    },
                    "metadata": {}
                }
            ],
            "execution_count": 20
        },
        {
            "cell_type": "markdown",
            "source": [
                "## 2.4 Drifstrapporter"
            ],
            "metadata": {
                "azdata_cell_guid": "0751c69a-ad7a-4984-ab29-2895d94126af"
            }
        },
        {
            "cell_type": "markdown",
            "source": [
                "### 2.4.1 Tabel med fejlprioriteringer"
            ],
            "metadata": {
                "azdata_cell_guid": "7f7889b0-a84a-418d-872a-3a052be79b7f"
            }
        },
        {
            "cell_type": "code",
            "source": [
                "-- Fejlprioritering '[fejlprioritettabel]'\r\n",
                "\r\n",
                "USE [Eksamensopgave_jernbaneforvalter]\r\n",
                "\r\n",
                "-- Drop the table if it already exists\r\n",
                "IF OBJECT_ID('[dbo].[fejlprioritettabel]', 'U') IS NOT NULL\r\n",
                "DROP TABLE [dbo].[fejlprioritettabel]\r\n",
                "GO\r\n",
                "\r\n",
                "CREATE TABLE [dbo].[fejlprioritettabel]\r\n",
                "(\r\n",
                "    [FejlprioritetID] INT NOT NULL PRIMARY KEY, \r\n",
                "    [Fejlprioritet] NVARCHAR(50) UNIQUE NOT NULL\r\n",
                "    \r\n",
                ");\r\n",
                "GO\r\n",
                "\r\n",
                "-- Insert rows into table\r\n",
                "INSERT INTO [dbo].[fejlprioritettabel]\r\n",
                "(\r\n",
                " [FejlprioritetID], [Fejlprioritet]\r\n",
                ")\r\n",
                "VALUES\r\n",
                "(1, N'Fatal'),\r\n",
                "(2, N'Forstyrrende'),\r\n",
                "(3, N'Generende'),\r\n",
                "(4, N'Vagt ej tilkaldt')\r\n",
                "\r\n",
                "-- View a sample from the table\r\n",
                "SELECT TOP(10) [FejlprioritetID], [Fejlprioritet]\r\n",
                "FROM [dbo].[fejlprioritettabel]\r\n",
                "ORDER BY FejlprioritetID"
            ],
            "metadata": {
                "azdata_cell_guid": "a55c953f-d4bf-4eb7-97fd-b882ff3911e9"
            },
            "outputs": [
                {
                    "output_type": "display_data",
                    "data": {
                        "text/html": "Commands completed successfully."
                    },
                    "metadata": {}
                },
                {
                    "output_type": "display_data",
                    "data": {
                        "text/html": "Commands completed successfully."
                    },
                    "metadata": {}
                },
                {
                    "output_type": "display_data",
                    "data": {
                        "text/html": "(4 rows affected)"
                    },
                    "metadata": {}
                },
                {
                    "output_type": "display_data",
                    "data": {
                        "text/html": "(4 rows affected)"
                    },
                    "metadata": {}
                },
                {
                    "output_type": "display_data",
                    "data": {
                        "text/html": "Total execution time: 00:00:00.003"
                    },
                    "metadata": {}
                },
                {
                    "output_type": "execute_result",
                    "execution_count": 12,
                    "data": {
                        "application/vnd.dataresource+json": {
                            "schema": {
                                "fields": [
                                    {
                                        "name": "FejlprioritetID"
                                    },
                                    {
                                        "name": "Fejlprioritet"
                                    }
                                ]
                            },
                            "data": [
                                {
                                    "0": "1",
                                    "1": "Fatal"
                                },
                                {
                                    "0": "2",
                                    "1": "Forstyrrende"
                                },
                                {
                                    "0": "3",
                                    "1": "Generende"
                                },
                                {
                                    "0": "4",
                                    "1": "Vagt ej tilkaldt"
                                }
                            ]
                        },
                        "text/html": "<table><tr><th>FejlprioritetID</th><th>Fejlprioritet</th></tr><tr><td>1</td><td>Fatal</td></tr><tr><td>2</td><td>Forstyrrende</td></tr><tr><td>3</td><td>Generende</td></tr><tr><td>4</td><td>Vagt ej tilkaldt</td></tr></table>"
                    },
                    "metadata": {}
                }
            ],
            "execution_count": 12
        },
        {
            "cell_type": "markdown",
            "source": [
                "### 2.4.2 Tabel med alle driftsrapporter"
            ],
            "metadata": {
                "azdata_cell_guid": "73798093-2ad8-40ea-8326-8456e58db100"
            }
        },
        {
            "cell_type": "code",
            "source": [
                "-- dbo.alledriftsrapportertabel blev importeret ved hjælp af \"SQL Server Import 1.3.0\". Data var lagret i en csv fil.\r\n",
                "\r\n",
                "-- Importeringsværktøjet har sørget for Primary Key og datatyper. \r\n",
                "\r\n",
                "-- Der oprettes en driftsrapport for hver modelnummer der går i stykker i et given tidspunkt, på et Banenummer\r\n",
                "\r\n",
                "-- Nu skal der tilføjes de foreign keys der mangler\r\n",
                "\r\n",
                "USE [Eksamensopgave_jernbaneforvalter]\r\n",
                "\r\n",
                "ALTER TABLE alledriftsrapportertabel\r\n",
                "ADD FOREIGN KEY (Banenummer) REFERENCES allebanenumretabel(Banenummer),\r\n",
                "    FOREIGN KEY (Modelnummer) REFERENCES allemodelnumretabel(Modelnummer),\r\n",
                "    FOREIGN KEY (FejlprioritetID) REFERENCES fejlprioritettabel(FejlprioritetID);\r\n",
                "\r\n",
                "-- View a sample from the table\r\n",
                "SELECT TOP(10) [Driftsrapportnummer], [Banenummer], [Modelnummer], [FejlprioritetID], [Fejlmeldingsdato_og_tid], [Udbedringsdato_og_tid], [Kommentar]\r\n",
                "FROM [dbo].[alledriftsrapportertabel]\r\n",
                "ORDER BY Driftsrapportnummer"
            ],
            "metadata": {
                "azdata_cell_guid": "26e23de4-e469-40be-8c0f-9a248ad470cc",
                "tags": []
            },
            "outputs": [
                {
                    "output_type": "display_data",
                    "data": {
                        "text/html": "(10 rows affected)"
                    },
                    "metadata": {}
                },
                {
                    "output_type": "display_data",
                    "data": {
                        "text/html": "Total execution time: 00:00:00.034"
                    },
                    "metadata": {}
                },
                {
                    "output_type": "execute_result",
                    "execution_count": 6,
                    "data": {
                        "application/vnd.dataresource+json": {
                            "schema": {
                                "fields": [
                                    {
                                        "name": "Driftsrapportnummer"
                                    },
                                    {
                                        "name": "Banenummer"
                                    },
                                    {
                                        "name": "Modelnummer"
                                    },
                                    {
                                        "name": "FejlprioritetID"
                                    },
                                    {
                                        "name": "Fejlmeldingsdato_og_tid"
                                    },
                                    {
                                        "name": "Udbedringsdato_og_tid"
                                    },
                                    {
                                        "name": "Kommentar"
                                    }
                                ]
                            },
                            "data": [
                                {
                                    "0": "1",
                                    "1": "34",
                                    "2": "B22110H",
                                    "3": "1",
                                    "4": "2017-01-01 02.04.00.0000000",
                                    "5": "2017-01-01 03.42.00.0000000",
                                    "6": "NULL"
                                },
                                {
                                    "0": "2",
                                    "1": "5",
                                    "2": "B22111H",
                                    "3": "1",
                                    "4": "2017-01-01 06.53.00.0000000",
                                    "5": "2017-01-01 13.06.00.0000000",
                                    "6": "NULL"
                                },
                                {
                                    "0": "3",
                                    "1": "5",
                                    "2": "B22035A",
                                    "3": "2",
                                    "4": "2017-01-01 07.48.00.0000000",
                                    "5": "2017-01-05 12.41.41.0000000",
                                    "6": "NULL"
                                },
                                {
                                    "0": "4",
                                    "1": "5",
                                    "2": "B22120H",
                                    "3": "1",
                                    "4": "2017-01-01 08.02.00.0000000",
                                    "5": "2017-01-01 10.05.47.0000000",
                                    "6": "NULL"
                                },
                                {
                                    "0": "5",
                                    "1": "111",
                                    "2": "B22084G",
                                    "3": "1",
                                    "4": "2017-01-01 08.06.00.0000000",
                                    "5": "2017-01-20 09.00.00.0000000",
                                    "6": "NULL"
                                },
                                {
                                    "0": "6",
                                    "1": "30",
                                    "2": "B22120H",
                                    "3": "1",
                                    "4": "2017-01-01 09.13.00.0000000",
                                    "5": "2017-01-02 12.22.25.0000000",
                                    "6": "NULL"
                                },
                                {
                                    "0": "7",
                                    "1": "19",
                                    "2": "B22120H",
                                    "3": "1",
                                    "4": "2017-01-01 14.35.00.0000000",
                                    "5": "2017-01-01 18.48.00.0000000",
                                    "6": "NULL"
                                },
                                {
                                    "0": "8",
                                    "1": "7",
                                    "2": "B22120H",
                                    "3": "1",
                                    "4": "2017-01-01 17.33.00.0000000",
                                    "5": "2017-01-02 20.07.04.0000000",
                                    "6": "NULL"
                                },
                                {
                                    "0": "9",
                                    "1": "10",
                                    "2": "B22112H",
                                    "3": "1",
                                    "4": "2017-01-01 20.33.00.0000000",
                                    "5": "2017-01-02 00.40.00.0000000",
                                    "6": "NULL"
                                },
                                {
                                    "0": "10",
                                    "1": "21",
                                    "2": "B22104H",
                                    "3": "1",
                                    "4": "2017-01-01 21.52.00.0000000",
                                    "5": "2017-01-02 23.02.35.0000000",
                                    "6": "NULL"
                                }
                            ]
                        },
                        "text/html": "<table><tr><th>Driftsrapportnummer</th><th>Banenummer</th><th>Modelnummer</th><th>FejlprioritetID</th><th>Fejlmeldingsdato_og_tid</th><th>Udbedringsdato_og_tid</th><th>Kommentar</th></tr><tr><td>1</td><td>34</td><td>B22110H</td><td>1</td><td>2017-01-01 02.04.00.0000000</td><td>2017-01-01 03.42.00.0000000</td><td>NULL</td></tr><tr><td>2</td><td>5</td><td>B22111H</td><td>1</td><td>2017-01-01 06.53.00.0000000</td><td>2017-01-01 13.06.00.0000000</td><td>NULL</td></tr><tr><td>3</td><td>5</td><td>B22035A</td><td>2</td><td>2017-01-01 07.48.00.0000000</td><td>2017-01-05 12.41.41.0000000</td><td>NULL</td></tr><tr><td>4</td><td>5</td><td>B22120H</td><td>1</td><td>2017-01-01 08.02.00.0000000</td><td>2017-01-01 10.05.47.0000000</td><td>NULL</td></tr><tr><td>5</td><td>111</td><td>B22084G</td><td>1</td><td>2017-01-01 08.06.00.0000000</td><td>2017-01-20 09.00.00.0000000</td><td>NULL</td></tr><tr><td>6</td><td>30</td><td>B22120H</td><td>1</td><td>2017-01-01 09.13.00.0000000</td><td>2017-01-02 12.22.25.0000000</td><td>NULL</td></tr><tr><td>7</td><td>19</td><td>B22120H</td><td>1</td><td>2017-01-01 14.35.00.0000000</td><td>2017-01-01 18.48.00.0000000</td><td>NULL</td></tr><tr><td>8</td><td>7</td><td>B22120H</td><td>1</td><td>2017-01-01 17.33.00.0000000</td><td>2017-01-02 20.07.04.0000000</td><td>NULL</td></tr><tr><td>9</td><td>10</td><td>B22112H</td><td>1</td><td>2017-01-01 20.33.00.0000000</td><td>2017-01-02 00.40.00.0000000</td><td>NULL</td></tr><tr><td>10</td><td>21</td><td>B22104H</td><td>1</td><td>2017-01-01 21.52.00.0000000</td><td>2017-01-02 23.02.35.0000000</td><td>NULL</td></tr></table>"
                    },
                    "metadata": {}
                }
            ],
            "execution_count": 6
        },
        {
            "cell_type": "markdown",
            "source": [
                "### 2.4.3 Driftsrapporter med alt info (brugervenlig)"
            ],
            "metadata": {
                "azdata_cell_guid": "fd5ea3e8-5199-46c6-b6fa-3d4683429782"
            }
        },
        {
            "cell_type": "code",
            "source": [
                "-- Vis en sample-tabel med nogle Driftsrapporter og deres pågældende banenummer, equipment art, fejlprioritet, datoer og kommentar\r\n",
                "\r\n",
                "-- Drop the stored procedure called 'stp_getalldriftsrapporter' in schema 'dbo'\r\n",
                "USE [Eksamensopgave_jernbaneforvalter]\r\n",
                "\r\n",
                "IF EXISTS (\r\n",
                "SELECT *\r\n",
                "    FROM INFORMATION_SCHEMA.ROUTINES\r\n",
                "WHERE SPECIFIC_SCHEMA = N'dbo'\r\n",
                "    AND SPECIFIC_NAME = N'stp_getalldriftsrapporter'\r\n",
                ")\r\n",
                "DROP PROCEDURE dbo.stp_getalldriftsrapporter\r\n",
                "GO\r\n",
                "\r\n",
                "-- Create a new stored procedure\r\n",
                "CREATE PROCEDURE stp_getalldriftsrapporter @i INT\r\n",
                "AS\r\n",
                "    ;WITH \r\n",
                "    tempbanenummertabel AS (\r\n",
                "        SELECT a.Banenummer, f.Fjernellersbane, s.Statsligellerprivat, p.Placering\r\n",
                "        FROM [Eksamensopgave_jernbaneforvalter].[dbo].[allebanenumretabel] AS a\r\n",
                "        LEFT OUTER JOIN [Eksamensopgave_jernbaneforvalter].[dbo].[fjernellersbanetabel] AS f ON a.FjernellersbaneID = f.FjernellersbaneID\r\n",
                "        LEFT OUTER JOIN [Eksamensopgave_jernbaneforvalter].[dbo].[statsligellerprivattabel] AS s ON a.StatsligellerprivatID = s.StatsligellerprivatID\r\n",
                "        LEFT OUTER JOIN [Eksamensopgave_jernbaneforvalter].[dbo].[placeringdanmarktabel] AS p ON a.PlaceringID = p.PlaceringID\r\n",
                "    ),\r\n",
                "    tempmodelnummertabel AS (\r\n",
                "        SELECT a.Modelnummer, e.Equipmentart, p.Producent, a.Anvendelsesaar\r\n",
                "        FROM [Eksamensopgave_jernbaneforvalter].[dbo].[allemodelnumretabel] AS a\r\n",
                "        LEFT OUTER JOIN [Eksamensopgave_jernbaneforvalter].[dbo].[producenttabel] AS p ON a.ProducentID = p.ProducentID\r\n",
                "        LEFT OUTER JOIN [Eksamensopgave_jernbaneforvalter].[dbo].[equipmentarttabel] AS e ON a.EquipmentartID = e.EquipmentartID\r\n",
                "    )    \r\n",
                "    SELECT TOP(@i) a.Driftsrapportnummer, \r\n",
                "        a.Banenummer, \r\n",
                "        tmpbnr.Fjernellersbane, \r\n",
                "        tmpbnr.Statsligellerprivat, \r\n",
                "        tmpbnr.Placering,\r\n",
                "        a.Modelnummer,\r\n",
                "        tmpmdlnr.Equipmentart,\r\n",
                "        tmpmdlnr.Producent,\r\n",
                "        tmpmdlnr.Anvendelsesaar,\r\n",
                "        fp.Fejlprioritet,\r\n",
                "        a.Fejlmeldingsdato_og_tid,\r\n",
                "        a.Udbedringsdato_og_tid\r\n",
                "    FROM [Eksamensopgave_jernbaneforvalter].[dbo].[alledriftsrapportertabel] AS a\r\n",
                "    LEFT OUTER JOIN tempbanenummertabel AS tmpbnr ON a.Banenummer = tmpbnr.Banenummer\r\n",
                "    LEFT OUTER JOIN tempmodelnummertabel AS tmpmdlnr ON a.Modelnummer = tmpmdlnr.Modelnummer\r\n",
                "    LEFT OUTER JOIN [Eksamensopgave_jernbaneforvalter].[dbo].[fejlprioritettabel] AS fp ON a.FejlprioritetID = fp.FejlprioritetID\r\n",
                "    ORDER BY a.Driftsrapportnummer\r\n",
                "GO\r\n",
                "\r\n",
                "EXEC stp_getalldriftsrapporter @i = 5;\r\n",
                "\r\n",
                ""
            ],
            "metadata": {
                "azdata_cell_guid": "d5df6b33-34ca-4073-b71a-0b48f66e591e"
            },
            "outputs": [
                {
                    "output_type": "display_data",
                    "data": {
                        "text/html": "Commands completed successfully."
                    },
                    "metadata": {}
                },
                {
                    "output_type": "display_data",
                    "data": {
                        "text/html": "Commands completed successfully."
                    },
                    "metadata": {}
                },
                {
                    "output_type": "display_data",
                    "data": {
                        "text/html": "(5 rows affected)"
                    },
                    "metadata": {}
                },
                {
                    "output_type": "display_data",
                    "data": {
                        "text/html": "Total execution time: 00:00:00.020"
                    },
                    "metadata": {}
                },
                {
                    "output_type": "execute_result",
                    "execution_count": 26,
                    "data": {
                        "application/vnd.dataresource+json": {
                            "schema": {
                                "fields": [
                                    {
                                        "name": "Driftsrapportnummer"
                                    },
                                    {
                                        "name": "Banenummer"
                                    },
                                    {
                                        "name": "Fjernellersbane"
                                    },
                                    {
                                        "name": "Statsligellerprivat"
                                    },
                                    {
                                        "name": "Placering"
                                    },
                                    {
                                        "name": "Modelnummer"
                                    },
                                    {
                                        "name": "Equipmentart"
                                    },
                                    {
                                        "name": "Producent"
                                    },
                                    {
                                        "name": "Anvendelsesaar"
                                    },
                                    {
                                        "name": "Fejlprioritet"
                                    },
                                    {
                                        "name": "Fejlmeldingsdato_og_tid"
                                    },
                                    {
                                        "name": "Udbedringsdato_og_tid"
                                    }
                                ]
                            },
                            "data": [
                                {
                                    "0": "1",
                                    "1": "34",
                                    "2": "FJERN",
                                    "3": "STATSLIG",
                                    "4": "Sydjylland",
                                    "5": "B22110H",
                                    "6": "Stationssikringsanlæg",
                                    "7": "Sagittarius A star Industries",
                                    "8": "1990",
                                    "9": "Fatal",
                                    "10": "2017-01-01 02.04.00.0000000",
                                    "11": "2017-01-01 03.42.00.0000000"
                                },
                                {
                                    "0": "2",
                                    "1": "5",
                                    "2": "FJERN",
                                    "3": "STATSLIG",
                                    "4": "København",
                                    "5": "B22111H",
                                    "6": "Stationssikringsanlæg",
                                    "7": "Neptune Train Corp",
                                    "8": "2010",
                                    "9": "Fatal",
                                    "10": "2017-01-01 06.53.00.0000000",
                                    "11": "2017-01-01 13.06.00.0000000"
                                },
                                {
                                    "0": "3",
                                    "1": "5",
                                    "2": "FJERN",
                                    "3": "STATSLIG",
                                    "4": "København",
                                    "5": "B22035A",
                                    "6": "Balise",
                                    "7": "Sagittarius A star Industries",
                                    "8": "1990",
                                    "9": "Forstyrrende",
                                    "10": "2017-01-01 07.48.00.0000000",
                                    "11": "2017-01-05 12.41.41.0000000"
                                },
                                {
                                    "0": "4",
                                    "1": "5",
                                    "2": "FJERN",
                                    "3": "STATSLIG",
                                    "4": "København",
                                    "5": "B22120H",
                                    "6": "Togdetektering",
                                    "7": "Neptune Train Corp",
                                    "8": "2010",
                                    "9": "Fatal",
                                    "10": "2017-01-01 08.02.00.0000000",
                                    "11": "2017-01-01 10.05.47.0000000"
                                },
                                {
                                    "0": "5",
                                    "1": "111",
                                    "2": "FJERN",
                                    "3": "PRIVAT",
                                    "4": "Vestsjælland",
                                    "5": "B22084G",
                                    "6": "Overkørselsanlæg",
                                    "7": "Neptune Train Corp",
                                    "8": "2010",
                                    "9": "Fatal",
                                    "10": "2017-01-01 08.06.00.0000000",
                                    "11": "2017-01-20 09.00.00.0000000"
                                }
                            ]
                        },
                        "text/html": "<table><tr><th>Driftsrapportnummer</th><th>Banenummer</th><th>Fjernellersbane</th><th>Statsligellerprivat</th><th>Placering</th><th>Modelnummer</th><th>Equipmentart</th><th>Producent</th><th>Anvendelsesaar</th><th>Fejlprioritet</th><th>Fejlmeldingsdato_og_tid</th><th>Udbedringsdato_og_tid</th></tr><tr><td>1</td><td>34</td><td>FJERN</td><td>STATSLIG</td><td>Sydjylland</td><td>B22110H</td><td>Stationssikringsanlæg</td><td>Sagittarius A star Industries</td><td>1990</td><td>Fatal</td><td>2017-01-01 02.04.00.0000000</td><td>2017-01-01 03.42.00.0000000</td></tr><tr><td>2</td><td>5</td><td>FJERN</td><td>STATSLIG</td><td>København</td><td>B22111H</td><td>Stationssikringsanlæg</td><td>Neptune Train Corp</td><td>2010</td><td>Fatal</td><td>2017-01-01 06.53.00.0000000</td><td>2017-01-01 13.06.00.0000000</td></tr><tr><td>3</td><td>5</td><td>FJERN</td><td>STATSLIG</td><td>København</td><td>B22035A</td><td>Balise</td><td>Sagittarius A star Industries</td><td>1990</td><td>Forstyrrende</td><td>2017-01-01 07.48.00.0000000</td><td>2017-01-05 12.41.41.0000000</td></tr><tr><td>4</td><td>5</td><td>FJERN</td><td>STATSLIG</td><td>København</td><td>B22120H</td><td>Togdetektering</td><td>Neptune Train Corp</td><td>2010</td><td>Fatal</td><td>2017-01-01 08.02.00.0000000</td><td>2017-01-01 10.05.47.0000000</td></tr><tr><td>5</td><td>111</td><td>FJERN</td><td>PRIVAT</td><td>Vestsjælland</td><td>B22084G</td><td>Overkørselsanlæg</td><td>Neptune Train Corp</td><td>2010</td><td>Fatal</td><td>2017-01-01 08.06.00.0000000</td><td>2017-01-20 09.00.00.0000000</td></tr></table>"
                    },
                    "metadata": {}
                }
            ],
            "execution_count": 26
        },
        {
            "cell_type": "markdown",
            "source": [
                "## 2.5 Medarbejdere per drifstrapport og de antal timer de har arbejdet"
            ],
            "metadata": {
                "azdata_cell_guid": "b0a55229-18db-4d2a-b3de-d4795861195e"
            }
        },
        {
            "cell_type": "code",
            "source": [
                "-- dbo.medarbejdereperdriftstrapporttabel blev importeret ved hjælp af \"SQL Server Import 1.3.0\". Data var lagret i en csv fil.\r\n",
                "\r\n",
                "-- Importeringsværktøjet har sørget for Primary Key og datatyper. \r\n",
                "\r\n",
                "-- Nu skal der tilføjes de foreign keys der mangler\r\n",
                "\r\n",
                "USE [Eksamensopgave_jernbaneforvalter]\r\n",
                "\r\n",
                "ALTER TABLE medarbejdereperdriftstrapporttabel\r\n",
                "ADD FOREIGN KEY (Driftsrapportnummer) REFERENCES alledriftsrapportertabel(Driftsrapportnummer),\r\n",
                "    FOREIGN KEY (Medarbejdernummer) REFERENCES allemedarbejderetabel(Medarbejdernummer);\r\n",
                "\r\n",
                "-- View a sample from the table\r\n",
                "SELECT TOP(10) [Driftsrapportnummer], [Medarbejdernummer], [Antaltimer]\r\n",
                "FROM [dbo].[medarbejdereperdriftstrapporttabel]\r\n",
                "ORDER BY Driftsrapportnummer"
            ],
            "metadata": {
                "azdata_cell_guid": "8f3d6748-537e-4b33-89bd-4a3787eac84d"
            },
            "outputs": [
                {
                    "output_type": "display_data",
                    "data": {
                        "text/html": "(10 rows affected)"
                    },
                    "metadata": {}
                },
                {
                    "output_type": "display_data",
                    "data": {
                        "text/html": "Total execution time: 00:00:00.027"
                    },
                    "metadata": {}
                },
                {
                    "output_type": "execute_result",
                    "execution_count": 29,
                    "data": {
                        "application/vnd.dataresource+json": {
                            "schema": {
                                "fields": [
                                    {
                                        "name": "Driftsrapportnummer"
                                    },
                                    {
                                        "name": "Medarbejdernummer"
                                    },
                                    {
                                        "name": "Antaltimer"
                                    }
                                ]
                            },
                            "data": [
                                {
                                    "0": "1",
                                    "1": "5065",
                                    "2": "1"
                                },
                                {
                                    "0": "1",
                                    "1": "5756",
                                    "2": "1"
                                },
                                {
                                    "0": "2",
                                    "1": "5373",
                                    "2": "5"
                                },
                                {
                                    "0": "2",
                                    "1": "5809",
                                    "2": "5"
                                },
                                {
                                    "0": "3",
                                    "1": "4963",
                                    "2": "50"
                                },
                                {
                                    "0": "3",
                                    "1": "5590",
                                    "2": "50"
                                },
                                {
                                    "0": "4",
                                    "1": "5278",
                                    "2": "1"
                                },
                                {
                                    "0": "4",
                                    "1": "5479",
                                    "2": "1"
                                },
                                {
                                    "0": "5",
                                    "1": "5229",
                                    "2": "406"
                                },
                                {
                                    "0": "5",
                                    "1": "5806",
                                    "2": "406"
                                }
                            ]
                        },
                        "text/html": "<table><tr><th>Driftsrapportnummer</th><th>Medarbejdernummer</th><th>Antaltimer</th></tr><tr><td>1</td><td>5065</td><td>1</td></tr><tr><td>1</td><td>5756</td><td>1</td></tr><tr><td>2</td><td>5373</td><td>5</td></tr><tr><td>2</td><td>5809</td><td>5</td></tr><tr><td>3</td><td>4963</td><td>50</td></tr><tr><td>3</td><td>5590</td><td>50</td></tr><tr><td>4</td><td>5278</td><td>1</td></tr><tr><td>4</td><td>5479</td><td>1</td></tr><tr><td>5</td><td>5229</td><td>406</td></tr><tr><td>5</td><td>5806</td><td>406</td></tr></table>"
                    },
                    "metadata": {}
                }
            ],
            "execution_count": 29
        }
    ]
}