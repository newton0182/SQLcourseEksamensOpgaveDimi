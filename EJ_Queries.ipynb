{
    "metadata": {
        "kernelspec": {
            "name": "SQL",
            "display_name": "SQL",
            "language": "sql"
        },
        "language_info": {
            "name": "sql",
            "version": ""
        }
    },
    "nbformat_minor": 2,
    "nbformat": 4,
    "cells": [
        {
            "cell_type": "code",
            "source": [
                "/*\r\n",
                "\r\n",
                "At forstå hvad er det der går tit i stykker (per modelnummer, equipment art og producent)\r\n",
                "Hvor i landet går ting konstant i stykker\r\n",
                "Hvor mange arbejdstimer forbruger vi hver måned\r\n",
                "Hvilke kompetencer har vi tit brug for når der er noget der går i stykker\r\n",
                "Fra hvilke afdelinger vi har brugt medarbejdere og timer så vi kan ”betale” dem.\r\n",
                "\r\n",
                "Ideelt skal vi have en hjemmeside eller en App hvor man kan tilgå databasen for at indtaste noget nyt eller redigere. SAP sælger en sådan GUI som gør det nemt for brugeren, men man kan lave sin egen\r\n",
                "hjemmeside eller bruge en Platforme som PowerApps. \r\n",
                "\r\n",
                "\r\n",
                "Remember:\r\n",
                "-diagram\r\n",
                "-find alle driftsrapporter en medarbejder har arbejdet på (2 Queries on top of eachother (webinar uge4 41:00), det hjælper softwareudvikleren med at spare tid - reduntancy)\r\n",
                "- API(webinar uge4 sto telos )\r\n",
                "-Stored procedure: svært at inject sql\r\n",
                "-indexing (Chapters 3,4)\r\n",
                "\r\n",
                "\r\n",
                "\r\n",
                "*/"
            ],
            "metadata": {
                "azdata_cell_guid": "f84713c2-9d13-4566-8432-e28cec0dd1cd"
            },
            "outputs": [],
            "execution_count": null
        },
        {
            "cell_type": "markdown",
            "source": [
                "# 1\\. Forespørgsler"
            ],
            "metadata": {
                "azdata_cell_guid": "3da9410a-79b6-420f-bbb8-c0c258908015"
            }
        },
        {
            "cell_type": "markdown",
            "source": [
                "## 1.1 TOP 10 modelnumre der gik mest i stykker i 2017"
            ],
            "metadata": {
                "azdata_cell_guid": "dfb9429a-049f-451d-84ed-1ed691398732"
            }
        },
        {
            "cell_type": "code",
            "source": [
                "-- TOP 10 modelnumre der gik mest i stykker i 2017 (sorteret for antallet af gange hver modelnummer gik i stykker)\r\n",
                "\r\n",
                "\r\n",
                "-- Drop the stored procedure called 'stp_getAntaliStykkerPerModelnummer' in schema 'dbo'\r\n",
                "USE [Eksamensopgave_jernbaneforvalter]\r\n",
                "\r\n",
                "IF EXISTS (\r\n",
                "SELECT *\r\n",
                "    FROM INFORMATION_SCHEMA.ROUTINES\r\n",
                "WHERE SPECIFIC_SCHEMA = N'dbo'\r\n",
                "    AND SPECIFIC_NAME = N'stp_getAntaliStykkerPerModelnummer'\r\n",
                ")\r\n",
                "DROP PROCEDURE dbo.stp_getAntaliStykkerPerModelnummer\r\n",
                "GO\r\n",
                "\r\n",
                "-- Create a new stored procedure\r\n",
                "CREATE PROCEDURE stp_getAntaliStykkerPerModelnummer @AntalRaekker INT, @aar INT\r\n",
                "AS\r\n",
                "    ;WITH \r\n",
                "    tempCountDriftsrapporter AS (\r\n",
                "        SELECT Modelnummer, COUNT(*) AS AntalGangeiStykker\r\n",
                "        FROM [Eksamensopgave_jernbaneforvalter].[dbo].[alledriftsrapportertabel]\r\n",
                "        WHERE YEAR(Fejlmeldingsdato_og_tid) = @aar\r\n",
                "        GROUP BY Modelnummer\r\n",
                "    )\r\n",
                "    SELECT TOP(@AntalRaekker) WITH TIES\r\n",
                "        tmpa.Modelnummer, \r\n",
                "        e.Equipmentart,\r\n",
                "        p.Producent,\r\n",
                "        tmpa.AntalGangeiStykker\r\n",
                "    FROM tempCountDriftsrapporter AS tmpa\r\n",
                "    LEFT OUTER JOIN [Eksamensopgave_jernbaneforvalter].[dbo].[allemodelnumretabel] AS m ON tmpa.Modelnummer = m.Modelnummer\r\n",
                "    LEFT OUTER JOIN [Eksamensopgave_jernbaneforvalter].[dbo].[equipmentarttabel] AS e ON m.EquipmentartID = e.EquipmentartID\r\n",
                "    LEFT OUTER JOIN [Eksamensopgave_jernbaneforvalter].[dbo].[producenttabel] AS p ON m.ProducentID = p.ProducentID\r\n",
                "    ORDER BY tmpa.AntalGangeiStykker DESC\r\n",
                "GO\r\n",
                "\r\n",
                "EXEC stp_getAntaliStykkerPerModelnummer @AntalRaekker = 10, @aar = 2017;"
            ],
            "metadata": {
                "azdata_cell_guid": "e8e2b335-a3fe-4ad4-b40b-b2a5e9944e11"
            },
            "outputs": [
                {
                    "output_type": "display_data",
                    "data": {
                        "text/html": "Commands completed successfully."
                    },
                    "metadata": {}
                },
                {
                    "output_type": "display_data",
                    "data": {
                        "text/html": "Commands completed successfully."
                    },
                    "metadata": {}
                },
                {
                    "output_type": "display_data",
                    "data": {
                        "text/html": "(10 rows affected)"
                    },
                    "metadata": {}
                },
                {
                    "output_type": "display_data",
                    "data": {
                        "text/html": "Total execution time: 00:00:00.010"
                    },
                    "metadata": {}
                },
                {
                    "output_type": "execute_result",
                    "metadata": {},
                    "execution_count": 11,
                    "data": {
                        "application/vnd.dataresource+json": {
                            "schema": {
                                "fields": [
                                    {
                                        "name": "Modelnummer"
                                    },
                                    {
                                        "name": "Equipmentart"
                                    },
                                    {
                                        "name": "Producent"
                                    },
                                    {
                                        "name": "AntalGangeiStykker"
                                    }
                                ]
                            },
                            "data": [
                                {
                                    "0": "B22112H",
                                    "1": "Stationssikringsanlæg",
                                    "2": "Einstein Rosen Bridge Infrastracture",
                                    "3": "1534"
                                },
                                {
                                    "0": "B22096H",
                                    "1": "Signal",
                                    "2": "Neptune Train Corp",
                                    "3": "908"
                                },
                                {
                                    "0": "B22085G",
                                    "1": "Overkørselsanlæg",
                                    "2": "Einstein Rosen Bridge Infrastracture",
                                    "3": "891"
                                },
                                {
                                    "0": "B22111H",
                                    "1": "Stationssikringsanlæg",
                                    "2": "Neptune Train Corp",
                                    "3": "826"
                                },
                                {
                                    "0": "B22084G",
                                    "1": "Overkørselsanlæg",
                                    "2": "Neptune Train Corp",
                                    "3": "795"
                                },
                                {
                                    "0": "B22120H",
                                    "1": "Togdetektering",
                                    "2": "Neptune Train Corp",
                                    "3": "788"
                                },
                                {
                                    "0": "B22121H",
                                    "1": "Togdetektering",
                                    "2": "Einstein Rosen Bridge Infrastracture",
                                    "3": "524"
                                },
                                {
                                    "0": "B22083G",
                                    "1": "Overkørselsanlæg",
                                    "2": "Sagittarius A star Industries",
                                    "3": "397"
                                },
                                {
                                    "0": "B22104H",
                                    "1": "Sporskiftedrev",
                                    "2": "Sagittarius A star Industries",
                                    "3": "370"
                                },
                                {
                                    "0": "B22110H",
                                    "1": "Stationssikringsanlæg",
                                    "2": "Sagittarius A star Industries",
                                    "3": "353"
                                }
                            ]
                        },
                        "text/html": [
                            "<table>",
                            "<tr><th>Modelnummer</th><th>Equipmentart</th><th>Producent</th><th>AntalGangeiStykker</th></tr>",
                            "<tr><td>B22112H</td><td>Stationssikringsanlæg</td><td>Einstein Rosen Bridge Infrastracture</td><td>1534</td></tr>",
                            "<tr><td>B22096H</td><td>Signal</td><td>Neptune Train Corp</td><td>908</td></tr>",
                            "<tr><td>B22085G</td><td>Overkørselsanlæg</td><td>Einstein Rosen Bridge Infrastracture</td><td>891</td></tr>",
                            "<tr><td>B22111H</td><td>Stationssikringsanlæg</td><td>Neptune Train Corp</td><td>826</td></tr>",
                            "<tr><td>B22084G</td><td>Overkørselsanlæg</td><td>Neptune Train Corp</td><td>795</td></tr>",
                            "<tr><td>B22120H</td><td>Togdetektering</td><td>Neptune Train Corp</td><td>788</td></tr>",
                            "<tr><td>B22121H</td><td>Togdetektering</td><td>Einstein Rosen Bridge Infrastracture</td><td>524</td></tr>",
                            "<tr><td>B22083G</td><td>Overkørselsanlæg</td><td>Sagittarius A star Industries</td><td>397</td></tr>",
                            "<tr><td>B22104H</td><td>Sporskiftedrev</td><td>Sagittarius A star Industries</td><td>370</td></tr>",
                            "<tr><td>B22110H</td><td>Stationssikringsanlæg</td><td>Sagittarius A star Industries</td><td>353</td></tr>",
                            "</table>"
                        ]
                    }
                }
            ],
            "execution_count": 11
        },
        {
            "cell_type": "markdown",
            "source": [
                "## 1.2 TOP 10 udstyrstyper der gik mest i stykker i 2017"
            ],
            "metadata": {
                "azdata_cell_guid": "ddad697f-0c6a-4b0a-a685-df02199ee2d9"
            }
        },
        {
            "cell_type": "code",
            "source": [
                "-- TOP 10 Equipmentart (udstyrstyper) der gik mest i stykker i 2017 (sorteret for antallet af gange hver Equipmentart gik i stykker)\r\n",
                "\r\n",
                "-- Drop the stored procedure called 'stp_getAntaliStykkerPerEquipmentart' in schema 'dbo'\r\n",
                "USE [Eksamensopgave_jernbaneforvalter]\r\n",
                "\r\n",
                "IF EXISTS (\r\n",
                "SELECT *\r\n",
                "    FROM INFORMATION_SCHEMA.ROUTINES\r\n",
                "WHERE SPECIFIC_SCHEMA = N'dbo'\r\n",
                "    AND SPECIFIC_NAME = N'stp_getAntaliStykkerPerEquipmentart'\r\n",
                ")\r\n",
                "DROP PROCEDURE dbo.stp_getAntaliStykkerPerEquipmentart\r\n",
                "GO\r\n",
                "\r\n",
                "-- Create a new stored procedure\r\n",
                "CREATE PROCEDURE stp_getAntaliStykkerPerEquipmentart @AntalRaekker INT, @aar INT\r\n",
                "AS \r\n",
                "    SELECT TOP(@AntalRaekker) WITH TIES\r\n",
                "        e.Equipmentart,\r\n",
                "        COUNT(*) AS AntalGangeiStykker\r\n",
                "    FROM [Eksamensopgave_jernbaneforvalter].[dbo].[alledriftsrapportertabel] AS a\r\n",
                "    LEFT OUTER JOIN [Eksamensopgave_jernbaneforvalter].[dbo].[allemodelnumretabel] AS m ON a.Modelnummer = m.Modelnummer\r\n",
                "    LEFT OUTER JOIN [Eksamensopgave_jernbaneforvalter].[dbo].[equipmentarttabel] AS e ON m.EquipmentartID = e.EquipmentartID\r\n",
                "    WHERE YEAR(a.Fejlmeldingsdato_og_tid) = @aar\r\n",
                "    GROUP BY e.Equipmentart\r\n",
                "    ORDER BY AntalGangeiStykker DESC\r\n",
                "GO\r\n",
                "\r\n",
                "EXEC stp_getAntaliStykkerPerEquipmentart @AntalRaekker = 10, @aar = 2017;\r\n",
                ""
            ],
            "metadata": {
                "azdata_cell_guid": "16824a67-dc10-4cdf-9a83-216acf549859"
            },
            "outputs": [
                {
                    "output_type": "display_data",
                    "data": {
                        "text/html": "Commands completed successfully."
                    },
                    "metadata": {}
                },
                {
                    "output_type": "display_data",
                    "data": {
                        "text/html": "Commands completed successfully."
                    },
                    "metadata": {}
                },
                {
                    "output_type": "display_data",
                    "data": {
                        "text/html": "(10 rows affected)"
                    },
                    "metadata": {}
                },
                {
                    "output_type": "display_data",
                    "data": {
                        "text/html": "Total execution time: 00:00:00.024"
                    },
                    "metadata": {}
                },
                {
                    "output_type": "execute_result",
                    "metadata": {},
                    "execution_count": 12,
                    "data": {
                        "application/vnd.dataresource+json": {
                            "schema": {
                                "fields": [
                                    {
                                        "name": "Equipmentart"
                                    },
                                    {
                                        "name": "AntalGangeiStykker"
                                    }
                                ]
                            },
                            "data": [
                                {
                                    "0": "Stationssikringsanlæg",
                                    "1": "2713"
                                },
                                {
                                    "0": "Overkørselsanlæg",
                                    "1": "2083"
                                },
                                {
                                    "0": "Signal",
                                    "1": "1594"
                                },
                                {
                                    "0": "Togdetektering",
                                    "1": "1488"
                                },
                                {
                                    "0": "Balise",
                                    "1": "810"
                                },
                                {
                                    "0": "Sporskiftedrev",
                                    "1": "801"
                                },
                                {
                                    "0": "Server",
                                    "1": "357"
                                },
                                {
                                    "0": "Betjeningsapparat",
                                    "1": "220"
                                },
                                {
                                    "0": "Bom/Bomdrev",
                                    "1": "152"
                                },
                                {
                                    "0": "Fjernstyringsunderst",
                                    "1": "88"
                                }
                            ]
                        },
                        "text/html": [
                            "<table>",
                            "<tr><th>Equipmentart</th><th>AntalGangeiStykker</th></tr>",
                            "<tr><td>Stationssikringsanlæg</td><td>2713</td></tr>",
                            "<tr><td>Overkørselsanlæg</td><td>2083</td></tr>",
                            "<tr><td>Signal</td><td>1594</td></tr>",
                            "<tr><td>Togdetektering</td><td>1488</td></tr>",
                            "<tr><td>Balise</td><td>810</td></tr>",
                            "<tr><td>Sporskiftedrev</td><td>801</td></tr>",
                            "<tr><td>Server</td><td>357</td></tr>",
                            "<tr><td>Betjeningsapparat</td><td>220</td></tr>",
                            "<tr><td>Bom/Bomdrev</td><td>152</td></tr>",
                            "<tr><td>Fjernstyringsunderst</td><td>88</td></tr>",
                            "</table>"
                        ]
                    }
                }
            ],
            "execution_count": 12
        },
        {
            "cell_type": "markdown",
            "source": [
                "## 1.3 Søg en medarbejder for at se deres jobfunktion, afdeling, leder og deres månedlige antal arbejdstimer i 2017"
            ],
            "metadata": {
                "azdata_cell_guid": "d6d158e2-9742-40f3-9d5d-3a9af94a73a3"
            }
        },
        {
            "cell_type": "markdown",
            "source": [
                "### 1.3.1 Find først den rigtige medarbejder (ved at slå op deres navn eller nummer)"
            ],
            "metadata": {
                "azdata_cell_guid": "8655172c-a1f6-4be2-ae04-6d0b58bbab20"
            }
        },
        {
            "cell_type": "code",
            "source": [
                "-- Find først medarbejdernumret hvis man ikke kender det ved at søge medarbejderens navn eller nummer\r\n",
                "\r\n",
                "-- Drop the stored procedure called 'stp_soegmedarbejder' in schema 'dbo'\r\n",
                "USE [Eksamensopgave_jernbaneforvalter]\r\n",
                "\r\n",
                "IF EXISTS (\r\n",
                "SELECT *\r\n",
                "    FROM INFORMATION_SCHEMA.ROUTINES\r\n",
                "WHERE SPECIFIC_SCHEMA = N'dbo'\r\n",
                "    AND SPECIFIC_NAME = N'stp_soegmedarbejder'\r\n",
                ")\r\n",
                "DROP PROCEDURE dbo.stp_soegmedarbejder\r\n",
                "GO\r\n",
                "\r\n",
                "-- Create a new stored procedure\r\n",
                "CREATE PROCEDURE stp_soegmedarbejder @Navn NVARCHAR(50), @Nummer INT\r\n",
                "AS \r\n",
                "    -- Hvis man søger medarbejderens navn\r\n",
                "    IF (@Nummer = 0) \r\n",
                "    BEGIN\r\n",
                "        ;WITH\r\n",
                "        AfdWithMng AS(\r\n",
                "            SELECT \r\n",
                "                afd.AfdelingID,\r\n",
                "                afd.Afdeling,\r\n",
                "                ISNULL(mrb.Title + ' ', '') + ISNULL(mrb.Navn + ' ', '') + ISNULL(mrb.Middelnavn + ' ', '') + ISNULL(mrb.Efternavn + ' ', '') AS [LederensNavn]\r\n",
                "            FROM [Eksamensopgave_jernbaneforvalter].[dbo].[afdelingtabel] AS afd\r\n",
                "            LEFT OUTER JOIN [Eksamensopgave_jernbaneforvalter].[dbo].[allemedarbejderetabel] AS mrb ON afd.Leder = mrb.Medarbejdernummer\r\n",
                "        ),\r\n",
                "        tempMedrbtabel AS(\r\n",
                "            SELECT a.Medarbejdernummer, \r\n",
                "                ISNULL(a.Title + ' ', '') + ISNULL(a.Navn + ' ', '') + ISNULL(a.Middelnavn + ' ', '') + ISNULL(a.Efternavn + ' ', '') AS [Fuldnavn],\r\n",
                "                j.Jobfunktion,\r\n",
                "                afmgr.Afdeling,\r\n",
                "                afmgr.LederensNavn\r\n",
                "            FROM [Eksamensopgave_jernbaneforvalter].[dbo].[allemedarbejderetabel] AS a\r\n",
                "            LEFT OUTER JOIN [Eksamensopgave_jernbaneforvalter].[dbo].[jobfunktiontabel] AS j ON a.JobfunktionID = j.JobfunktionID\r\n",
                "            LEFT OUTER JOIN AfdWithMng AS afmgr ON a.AfdelingID = afmgr.AfdelingID\r\n",
                "        )\r\n",
                "        SELECT tmpM.Medarbejdernummer, \r\n",
                "            tmpM.Fuldnavn,\r\n",
                "            tmpM.Jobfunktion,\r\n",
                "            tmpM.Afdeling,\r\n",
                "            tmpM.LederensNavn\r\n",
                "        FROM tempMedrbtabel AS tmpM\r\n",
                "        WHERE tmpM.Fuldnavn LIKE '%' + @Navn + '%'\r\n",
                "        ORDER BY tmpM.Medarbejdernummer\r\n",
                "    END\r\n",
                "\r\n",
                "    -- Hvis man søger medarbejderens nummer\r\n",
                "    ELSE\r\n",
                "    BEGIN\r\n",
                "        ;WITH\r\n",
                "        AfdWithMng AS(\r\n",
                "            SELECT \r\n",
                "                afd.AfdelingID,\r\n",
                "                afd.Afdeling,\r\n",
                "                ISNULL(mrb.Title + ' ', '') + ISNULL(mrb.Navn + ' ', '') + ISNULL(mrb.Middelnavn + ' ', '') + ISNULL(mrb.Efternavn + ' ', '') AS [LederensNavn]\r\n",
                "            FROM [Eksamensopgave_jernbaneforvalter].[dbo].[afdelingtabel] AS afd\r\n",
                "            LEFT OUTER JOIN [Eksamensopgave_jernbaneforvalter].[dbo].[allemedarbejderetabel] AS mrb ON afd.Leder = mrb.Medarbejdernummer\r\n",
                "        ),\r\n",
                "        tempMedrbtabel AS(\r\n",
                "            SELECT a.Medarbejdernummer, \r\n",
                "                ISNULL(a.Title + ' ', '') + ISNULL(a.Navn + ' ', '') + ISNULL(a.Middelnavn + ' ', '') + ISNULL(a.Efternavn + ' ', '') AS [Fuldnavn],\r\n",
                "                j.Jobfunktion,\r\n",
                "                afmgr.Afdeling,\r\n",
                "                afmgr.LederensNavn\r\n",
                "            FROM [Eksamensopgave_jernbaneforvalter].[dbo].[allemedarbejderetabel] AS a\r\n",
                "            LEFT OUTER JOIN [Eksamensopgave_jernbaneforvalter].[dbo].[jobfunktiontabel] AS j ON a.JobfunktionID = j.JobfunktionID\r\n",
                "            LEFT OUTER JOIN AfdWithMng AS afmgr ON a.AfdelingID = afmgr.AfdelingID\r\n",
                "        )\r\n",
                "        SELECT tmpM.Medarbejdernummer, \r\n",
                "            tmpM.Fuldnavn,\r\n",
                "            tmpM.Jobfunktion,\r\n",
                "            tmpM.Afdeling,\r\n",
                "            tmpM.LederensNavn\r\n",
                "        FROM tempMedrbtabel AS tmpM\r\n",
                "        WHERE tmpM.Medarbejdernummer = @Nummer\r\n",
                "        ORDER BY tmpM.Medarbejdernummer\r\n",
                "\r\n",
                "    END\r\n",
                "GO\r\n",
                "\r\n",
                "/* Hvis man vil søge medarbejderens navn */\r\n",
                "EXEC stp_soegmedarbejder @Navn = 'Browning', @Nummer = 0;\r\n",
                "\r\n",
                "/* Hvis man vil søge medarbejderens nummer */\r\n",
                "--EXEC stp_soegmedarbejder @Navn = '', @Nummer = 5654;\r\n",
                ""
            ],
            "metadata": {
                "azdata_cell_guid": "bbd712e3-1829-4413-a908-dd5343bdad4a"
            },
            "outputs": [
                {
                    "output_type": "display_data",
                    "data": {
                        "text/html": "Commands completed successfully."
                    },
                    "metadata": {}
                },
                {
                    "output_type": "display_data",
                    "data": {
                        "text/html": "Commands completed successfully."
                    },
                    "metadata": {}
                },
                {
                    "output_type": "display_data",
                    "data": {
                        "text/html": "(2 rows affected)"
                    },
                    "metadata": {}
                },
                {
                    "output_type": "display_data",
                    "data": {
                        "text/html": "Total execution time: 00:00:00.011"
                    },
                    "metadata": {}
                },
                {
                    "output_type": "execute_result",
                    "metadata": {},
                    "execution_count": 72,
                    "data": {
                        "application/vnd.dataresource+json": {
                            "schema": {
                                "fields": [
                                    {
                                        "name": "Medarbejdernummer"
                                    },
                                    {
                                        "name": "Fuldnavn"
                                    },
                                    {
                                        "name": "Jobfunktion"
                                    },
                                    {
                                        "name": "Afdeling"
                                    },
                                    {
                                        "name": "LederensNavn"
                                    }
                                ]
                            },
                            "data": [
                                {
                                    "0": "5302",
                                    "1": "Ms. Mary K. Browning ",
                                    "2": "Spor-Ingeniør",
                                    "3": "Sporkonstruktioner",
                                    "4": "Mary E Gibson "
                                },
                                {
                                    "0": "5303",
                                    "1": "Mr. Dave P. Browning ",
                                    "2": "El-Ingeniør",
                                    "3": "Signalsystemer",
                                    "4": "Sariya E Harnpadoungsataya "
                                }
                            ]
                        },
                        "text/html": [
                            "<table>",
                            "<tr><th>Medarbejdernummer</th><th>Fuldnavn</th><th>Jobfunktion</th><th>Afdeling</th><th>LederensNavn</th></tr>",
                            "<tr><td>5302</td><td>Ms. Mary K. Browning </td><td>Spor-Ingeniør</td><td>Sporkonstruktioner</td><td>Mary E Gibson </td></tr>",
                            "<tr><td>5303</td><td>Mr. Dave P. Browning </td><td>El-Ingeniør</td><td>Signalsystemer</td><td>Sariya E Harnpadoungsataya </td></tr>",
                            "</table>"
                        ]
                    }
                }
            ],
            "execution_count": 72
        },
        {
            "cell_type": "markdown",
            "source": [
                "### 1.3.2 Se det totale antal arbejdstimer for hver måned for den pågældende medarbejder"
            ],
            "metadata": {
                "azdata_cell_guid": "1989321e-ba52-46a3-8387-9ed37ad75d8f"
            }
        },
        {
            "cell_type": "code",
            "source": [
                "-- Efter man har fundet medarbejderens nummer, kan man trække data for deres arbejdstimer hver måned\r\n",
                "\r\n",
                "-- Drop the stored procedure called 'stp_medarbejderenstimer' in schema 'dbo'\r\n",
                "USE [Eksamensopgave_jernbaneforvalter]\r\n",
                "\r\n",
                "IF EXISTS (\r\n",
                "SELECT *\r\n",
                "    FROM INFORMATION_SCHEMA.ROUTINES\r\n",
                "WHERE SPECIFIC_SCHEMA = N'dbo'\r\n",
                "    AND SPECIFIC_NAME = N'stp_medarbejderenstimer'\r\n",
                ")\r\n",
                "DROP PROCEDURE dbo.stp_medarbejderenstimer\r\n",
                "GO\r\n",
                "\r\n",
                "-- Create a new stored procedure\r\n",
                "CREATE PROCEDURE stp_medarbejderenstimer @Nummer INT, @aar INT\r\n",
                "AS\r\n",
                "    ;WITH \r\n",
                "    tmpMdrbTimer AS(\r\n",
                "        SELECT Driftsrapportnummer, Antaltimer\r\n",
                "        FROM [Eksamensopgave_jernbaneforvalter].[dbo].[medarbejdereperdriftstrapporttabel]\r\n",
                "        WHERE Medarbejdernummer = @Nummer\r\n",
                "    )\r\n",
                "    SELECT \r\n",
                "        MONTH(adr.Udbedringsdato_og_tid) AS Maaned,\r\n",
                "        --DATENAME(mm,adr.Udbedringsdato_og_tid) AS Maaned,\r\n",
                "        SUM(tmpMT.Antaltimer) AS TotalAntalTimer\r\n",
                "    FROM tmpMdrbTimer AS tmpMT\r\n",
                "    LEFT OUTER JOIN [Eksamensopgave_jernbaneforvalter].[dbo].[alledriftsrapportertabel] AS adr ON tmpMT.Driftsrapportnummer = adr.Driftsrapportnummer\r\n",
                "    WHERE YEAR(Udbedringsdato_og_tid) = @aar\r\n",
                "    GROUP BY MONTH(adr.Udbedringsdato_og_tid)\r\n",
                "    ORDER BY MONTH(adr.Udbedringsdato_og_tid)\r\n",
                "GO\r\n",
                "\r\n",
                "/* Hvis man vil søge medarbejderens navn */\r\n",
                "EXEC stp_soegmedarbejder @Navn = '', @Nummer = 5302;\r\n",
                "\r\n",
                "EXEC stp_medarbejderenstimer @Nummer = 5302, @aar = 2017;\r\n",
                "\r\n",
                ""
            ],
            "metadata": {
                "azdata_cell_guid": "e8437767-d7be-4946-9416-d4b758a743c7"
            },
            "outputs": [
                {
                    "output_type": "display_data",
                    "data": {
                        "text/html": "Commands completed successfully."
                    },
                    "metadata": {}
                },
                {
                    "output_type": "display_data",
                    "data": {
                        "text/html": "Commands completed successfully."
                    },
                    "metadata": {}
                },
                {
                    "output_type": "display_data",
                    "data": {
                        "text/html": "(1 row affected)"
                    },
                    "metadata": {}
                },
                {
                    "output_type": "display_data",
                    "data": {
                        "text/html": "(10 rows affected)"
                    },
                    "metadata": {}
                },
                {
                    "output_type": "display_data",
                    "data": {
                        "text/html": "Total execution time: 00:00:00.021"
                    },
                    "metadata": {}
                },
                {
                    "output_type": "execute_result",
                    "metadata": {},
                    "execution_count": 96,
                    "data": {
                        "application/vnd.dataresource+json": {
                            "schema": {
                                "fields": [
                                    {
                                        "name": "Medarbejdernummer"
                                    },
                                    {
                                        "name": "Fuldnavn"
                                    },
                                    {
                                        "name": "Jobfunktion"
                                    },
                                    {
                                        "name": "Afdeling"
                                    },
                                    {
                                        "name": "LederensNavn"
                                    }
                                ]
                            },
                            "data": [
                                {
                                    "0": "5302",
                                    "1": "Ms. Mary K. Browning ",
                                    "2": "Spor-Ingeniør",
                                    "3": "Sporkonstruktioner",
                                    "4": "Mary E Gibson "
                                }
                            ]
                        },
                        "text/html": [
                            "<table>",
                            "<tr><th>Medarbejdernummer</th><th>Fuldnavn</th><th>Jobfunktion</th><th>Afdeling</th><th>LederensNavn</th></tr>",
                            "<tr><td>5302</td><td>Ms. Mary K. Browning </td><td>Spor-Ingeniør</td><td>Sporkonstruktioner</td><td>Mary E Gibson </td></tr>",
                            "</table>"
                        ]
                    }
                },
                {
                    "output_type": "execute_result",
                    "metadata": {},
                    "execution_count": 96,
                    "data": {
                        "application/vnd.dataresource+json": {
                            "schema": {
                                "fields": [
                                    {
                                        "name": "Maaned"
                                    },
                                    {
                                        "name": "TotalAntalTimer"
                                    }
                                ]
                            },
                            "data": [
                                {
                                    "0": "1",
                                    "1": "4"
                                },
                                {
                                    "0": "2",
                                    "1": "2"
                                },
                                {
                                    "0": "3",
                                    "1": "1"
                                },
                                {
                                    "0": "4",
                                    "1": "5"
                                },
                                {
                                    "0": "5",
                                    "1": "9"
                                },
                                {
                                    "0": "6",
                                    "1": "2"
                                },
                                {
                                    "0": "7",
                                    "1": "30"
                                },
                                {
                                    "0": "8",
                                    "1": "1"
                                },
                                {
                                    "0": "9",
                                    "1": "18"
                                },
                                {
                                    "0": "10",
                                    "1": "7"
                                }
                            ]
                        },
                        "text/html": [
                            "<table>",
                            "<tr><th>Maaned</th><th>TotalAntalTimer</th></tr>",
                            "<tr><td>1</td><td>4</td></tr>",
                            "<tr><td>2</td><td>2</td></tr>",
                            "<tr><td>3</td><td>1</td></tr>",
                            "<tr><td>4</td><td>5</td></tr>",
                            "<tr><td>5</td><td>9</td></tr>",
                            "<tr><td>6</td><td>2</td></tr>",
                            "<tr><td>7</td><td>30</td></tr>",
                            "<tr><td>8</td><td>1</td></tr>",
                            "<tr><td>9</td><td>18</td></tr>",
                            "<tr><td>10</td><td>7</td></tr>",
                            "</table>"
                        ]
                    }
                }
            ],
            "execution_count": 96
        },
        {
            "cell_type": "markdown",
            "source": [
                "## 1.4 Hvilke kompetencer har vi brugt mest i 2017?"
            ],
            "metadata": {
                "azdata_cell_guid": "41e7d837-9893-4677-8b56-a55527671812"
            }
        },
        {
            "cell_type": "code",
            "source": [
                "-- Liste med alle kompetencer og det totale antal timer de var forbrugt\r\n",
                "\r\n",
                "-- Drop the stored procedure called 'stp_kompetencertimer' in schema 'dbo'\r\n",
                "USE [Eksamensopgave_jernbaneforvalter]\r\n",
                "\r\n",
                "IF EXISTS (\r\n",
                "SELECT *\r\n",
                "    FROM INFORMATION_SCHEMA.ROUTINES\r\n",
                "WHERE SPECIFIC_SCHEMA = N'dbo'\r\n",
                "    AND SPECIFIC_NAME = N'stp_kompetencertimer'\r\n",
                ")\r\n",
                "DROP PROCEDURE dbo.stp_kompetencertimer\r\n",
                "GO\r\n",
                "\r\n",
                "-- Create a new stored procedure\r\n",
                "CREATE PROCEDURE stp_kompetencertimer @aar INT\r\n",
                "AS\r\n",
                "    SELECT \r\n",
                "        jf.Jobfunktion,\r\n",
                "        SUM(mdrbdrrp.Antaltimer) AS TotalAntalTimer\r\n",
                "    FROM [Eksamensopgave_jernbaneforvalter].[dbo].[medarbejdereperdriftstrapporttabel] AS mdrbdrrp\r\n",
                "    LEFT OUTER JOIN [Eksamensopgave_jernbaneforvalter].[dbo].[alledriftsrapportertabel] AS adr ON mdrbdrrp.Driftsrapportnummer = adr.Driftsrapportnummer\r\n",
                "    LEFT OUTER JOIN [Eksamensopgave_jernbaneforvalter].[dbo].[allemedarbejderetabel] AS amdr ON mdrbdrrp.Medarbejdernummer = amdr.Medarbejdernummer\r\n",
                "    LEFT OUTER JOIN [Eksamensopgave_jernbaneforvalter].[dbo].[jobfunktiontabel] AS jf ON amdr.JobfunktionID = jf.JobfunktionID\r\n",
                "    WHERE YEAR(adr.Udbedringsdato_og_tid) = @aar\r\n",
                "    GROUP BY jf.Jobfunktion\r\n",
                "    ORDER BY TotalAntalTimer DESC\r\n",
                "GO\r\n",
                "\r\n",
                "EXEC stp_kompetencertimer @aar = 2017\r\n",
                ""
            ],
            "metadata": {
                "azdata_cell_guid": "8a85323e-22e5-4abc-9556-fdb5a570fb87"
            },
            "outputs": [
                {
                    "output_type": "display_data",
                    "data": {
                        "text/html": "(6 rows affected)"
                    },
                    "metadata": {}
                },
                {
                    "output_type": "display_data",
                    "data": {
                        "text/html": "Total execution time: 00:00:00.021"
                    },
                    "metadata": {}
                },
                {
                    "output_type": "execute_result",
                    "metadata": {},
                    "execution_count": 100,
                    "data": {
                        "application/vnd.dataresource+json": {
                            "schema": {
                                "fields": [
                                    {
                                        "name": "Jobfunktion"
                                    },
                                    {
                                        "name": "TotalAntalTimer"
                                    }
                                ]
                            },
                            "data": [
                                {
                                    "0": "El-Ingeniør",
                                    "1": "76347"
                                },
                                {
                                    "0": "IT-Ingeniør",
                                    "1": "75389"
                                },
                                {
                                    "0": "IT-tekniker",
                                    "1": "72289"
                                },
                                {
                                    "0": "Spor-tekniker",
                                    "1": "60110"
                                },
                                {
                                    "0": "El-tekniker",
                                    "1": "53095"
                                },
                                {
                                    "0": "Spor-Ingeniør",
                                    "1": "51724"
                                }
                            ]
                        },
                        "text/html": [
                            "<table>",
                            "<tr><th>Jobfunktion</th><th>TotalAntalTimer</th></tr>",
                            "<tr><td>El-Ingeniør</td><td>76347</td></tr>",
                            "<tr><td>IT-Ingeniør</td><td>75389</td></tr>",
                            "<tr><td>IT-tekniker</td><td>72289</td></tr>",
                            "<tr><td>Spor-tekniker</td><td>60110</td></tr>",
                            "<tr><td>El-tekniker</td><td>53095</td></tr>",
                            "<tr><td>Spor-Ingeniør</td><td>51724</td></tr>",
                            "</table>"
                        ]
                    }
                }
            ],
            "execution_count": 100
        }
    ]
}